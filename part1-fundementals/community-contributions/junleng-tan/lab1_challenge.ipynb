{
 "cells": [
  {
   "cell_type": "markdown",
   "id": "e1e5a840",
   "metadata": {},
   "source": [
    "<div style=\"border-radius:16px;background:#1e2a1e;margin:1em 0;padding:1em 1em 1em 3em;color:#eceff4;position:relative;box-shadow:0 6px 16px rgba(0,0,0,.4)\">\n",
    "    <b style=\"color:#a3be8c;font-size:1.25em\">Your Challenge:</b>\n",
    "    <ul style=\"margin:.6em 0 0;padding-left:1.2em;line-height:1.6\"></ul>\n",
    "        <li>Recreate the customer support ticket workflow using an <b>evaluator-optimizer agentic workflow pattern</b> instead of prompt chaining.</li>\n",
    "        <li>Your evaluator agent should assess the quality and completeness of each ticket and suggest improvements.</li>\n",
    "        <li>Your optimizer agent should revise the tickets based on evaluator feedback, aiming for clarity and actionable details.</li>\n",
    "        <li>Try to implement this using at least two LLM calls (one for evaluation, one for optimization) and display the before/after results.</li>\n",
    "        <li>Share your work in the community-contributions folder by creating a folder with your name. Eg. shaheer-airaj.</li>\n",
    "    </ul>\n",
    "    <div style=\"position:absolute;top:-.8em;left:-.8em;width:2.4em;height:2.4em;border-radius:50%;background:#a3be8c;color:#2e3440;display:flex;align-items:center;justify-content:center;font-weight:700;font-size:1.2em\">💪</div>\n",
    "</div>"
   ]
  },
  {
   "cell_type": "code",
   "execution_count": 2,
   "id": "5f02033c",
   "metadata": {},
   "outputs": [],
   "source": [
    "import os\n",
    "from openai import OpenAI\n",
    "from dotenv import load_dotenv\n",
    "from IPython.display import display, Markdown\n",
    "\n",
    "load_dotenv()\n",
    "\n",
    "OPENAI_API_KEY = os.getenv(\"OPENAI_API_KEY\")\n",
    "ANTHROPIC_API_KEY = os.getenv(\"ANTHROPIC_API_KEY\")\n",
    "GEMINI_API_KEY = os.getenv(\"GEMINI_API_KEY\")\n",
    "\n",
    "if not OPENAI_API_KEY:\n",
    "    raise ValueError(\"OPENAI_API_KEY not loaded.\")\n",
    "if not ANTHROPIC_API_KEY:\n",
    "    raise ValueError(\"ANTHROPIC_API_KEY not loaded.\")\n",
    "if not GEMINI_API_KEY:\n",
    "    raise ValueError(\"GEMINI_API_KEY not loaded.\")"
   ]
  },
  {
   "cell_type": "code",
   "execution_count": 3,
   "id": "b000121e",
   "metadata": {},
   "outputs": [
    {
     "data": {
      "text/markdown": [
       "### Generated Ticket:\n",
       "\n",
       "Subject: Issue with Recent Order Delivery\n",
       "\n",
       "Hello, I received my order (Order #12345) today, but the items are incorrect. I requested a blue sweater in size M, but received a red one in size L. Please advise on how to return the incorrect item and get the correct one shipped. Thank you for your assistance."
      ],
      "text/plain": [
       "<IPython.core.display.Markdown object>"
      ]
     },
     "metadata": {},
     "output_type": "display_data"
    }
   ],
   "source": [
    "# create a ticket\n",
    "openai_client = OpenAI(api_key= OPENAI_API_KEY)\n",
    "\n",
    "message = \"I want you to create a customer ticket, the ticket should be less than 100 words, and can be from a variety of topics. Only show the content of the ticket.\" \n",
    "response = openai_client.chat.completions.create(\n",
    "    model=\"gpt-4.1-nano\",\n",
    "    messages = [{\"role\": \"user\", \"content\": message}]\n",
    ")\n",
    "ticket = response.choices[0].message.content\n",
    "display(Markdown(f\"### Generated Ticket:\\n\\n{ticket}\"))"
   ]
  },
  {
   "cell_type": "code",
   "execution_count": 4,
   "id": "e4aa1543",
   "metadata": {},
   "outputs": [
    {
     "name": "stdout",
     "output_type": "stream",
     "text": [
      "You are an expert customer support ticket evaluator. Your task is to assess the quality of customer support ticket in triple backticks based on quality and completeness, and suggest improvements if necessary. ```Subject: Issue with Recent Order Delivery\n",
      "\n",
      "Hello, I received my order (Order #12345) today, but the items are incorrect. I requested a blue sweater in size M, but received a red one in size L. Please advise on how to return the incorrect item and get the correct one shipped. Thank you for your assistance.```. \n",
      "  Your output should only be in two sentences one for evaluation and one for feedback. Be concise and less than 100 words.\n"
     ]
    },
    {
     "data": {
      "text/markdown": [
       "### Ticket Evaluation:\n",
       "\n",
       "Evaluation: The ticket provides clear, specific details about the order discrepancy, including order number, expected vs. received item details, which enables efficient problem resolution. Feedback: To improve the ticket, the customer could include additional context such as the order date, preferred return method, and contact information to expedite the resolution process."
      ],
      "text/plain": [
       "<IPython.core.display.Markdown object>"
      ]
     },
     "metadata": {},
     "output_type": "display_data"
    }
   ],
   "source": [
    "# create an evaluator\n",
    "evaluator_prompt = f\"\"\"You are an expert customer support ticket evaluator. Your task is to assess the quality of customer support ticket in triple backticks based on quality and completeness, and suggest improvements if necessary. ```{ticket}```. \n",
    "  Your output should only be in two sentences one for evaluation and one for feedback. Be concise and less than 100 words.\"\"\"\n",
    "print(evaluator_prompt)\n",
    "anthropic_client = OpenAI(api_key=ANTHROPIC_API_KEY, base_url=\"https://api.anthropic.com/v1\")\n",
    "evaluation_response = anthropic_client.chat.completions.create(\n",
    "    model=\"claude-3-5-haiku-latest\",\n",
    "    messages = [{'role':'user', 'content': evaluator_prompt }],\n",
    "    max_tokens=100)\n",
    "evaluation = evaluation_response.choices[0].message.content\n",
    "display(Markdown(f\"### Ticket Evaluation:\\n\\n{evaluation}\"))"
   ]
  },
  {
   "cell_type": "code",
   "execution_count": 5,
   "id": "afb9ddb4",
   "metadata": {},
   "outputs": [
    {
     "data": {
      "text/markdown": [
       "### Original Ticket:\n",
       "\n",
       "Subject: Issue with Recent Order Delivery\n",
       "\n",
       "Hello, I received my order (Order #12345) today, but the items are incorrect. I requested a blue sweater in size M, but received a red one in size L. Please advise on how to return the incorrect item and get the correct one shipped. Thank you for your assistance."
      ],
      "text/plain": [
       "<IPython.core.display.Markdown object>"
      ]
     },
     "metadata": {},
     "output_type": "display_data"
    },
    {
     "data": {
      "text/markdown": [
       "### Evaluation and Feedback:\n",
       "\n",
       "Evaluation: The ticket provides clear, specific details about the order discrepancy, including order number, expected vs. received item details, which enables efficient problem resolution. Feedback: To improve the ticket, the customer could include additional context such as the order date, preferred return method, and contact information to expedite the resolution process."
      ],
      "text/plain": [
       "<IPython.core.display.Markdown object>"
      ]
     },
     "metadata": {},
     "output_type": "display_data"
    },
    {
     "data": {
      "text/markdown": [
       "### Optimized Ticket:\n",
       "\n",
       "Subject: Incorrect Order Received - Order #12345 (Ordered Oct 26, 2023)\n",
       "\n",
       "Hello,\n",
       "My order #12345, placed on Oct 26, 2023, arrived today with incorrect items. I requested a blue sweater (size M) but received a red one (size L).\n",
       "\n",
       "Please provide instructions for returning the incorrect item and shipping the correct one. I prefer a prepaid return label. You can reach me at [Your Contact Email/Phone]."
      ],
      "text/plain": [
       "<IPython.core.display.Markdown object>"
      ]
     },
     "metadata": {},
     "output_type": "display_data"
    }
   ],
   "source": [
    "# create an optimizer to improve the ticket\n",
    "optimizer_prompt = f\"\"\"You are an expert customer support ticket optimizer. Your task is to improve the following customer support ticket in triple backticks based on the evaluation and feedback provided. \n",
    "  Ticket: ```{ticket}```. Evaluation and Feedback: ```{evaluation}```. \n",
    "  Your output should only be the improved ticket content, be concise and less than 100 words.\"\"\"\n",
    "\n",
    "gemini_client = OpenAI(api_key=GEMINI_API_KEY, base_url=\"https://generativelanguage.googleapis.com/v1beta/openai/\")\n",
    "# do not use max_tokens for gemini\n",
    "optimization_response = gemini_client.chat.completions.create(\n",
    "    model= \"gemini-2.5-flash\",\n",
    "    messages = [{'role':'user', 'content': optimizer_prompt }]\n",
    "    )\n",
    "optimized_ticket = optimization_response.choices[0].message.content\n",
    "display(Markdown(f\"### Original Ticket:\\n\\n{ticket}\"))\n",
    "display(Markdown(f\"### Evaluation and Feedback:\\n\\n{evaluation}\"))\n",
    "display(Markdown(f\"### Optimized Ticket:\\n\\n{optimized_ticket}\"))"
   ]
  }
 ],
 "metadata": {
  "kernelspec": {
   "display_name": "agentic-ai",
   "language": "python",
   "name": "python3"
  },
  "language_info": {
   "codemirror_mode": {
    "name": "ipython",
    "version": 3
   },
   "file_extension": ".py",
   "mimetype": "text/x-python",
   "name": "python",
   "nbconvert_exporter": "python",
   "pygments_lexer": "ipython3",
   "version": "3.13.9"
  }
 },
 "nbformat": 4,
 "nbformat_minor": 5
}
