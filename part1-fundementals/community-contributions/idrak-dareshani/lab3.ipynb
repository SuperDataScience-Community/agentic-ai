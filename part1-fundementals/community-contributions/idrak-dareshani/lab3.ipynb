{
 "cells": [
  {
   "cell_type": "markdown",
   "id": "3aa669de",
   "metadata": {},
   "source": [
    "## Step 1: Import libraries"
   ]
  },
  {
   "cell_type": "code",
   "execution_count": 5,
   "id": "16015c67",
   "metadata": {},
   "outputs": [],
   "source": [
    "import os\n",
    "from dotenv import load_dotenv\n",
    "from IPython.display import Markdown, display\n",
    "\n",
    "load_dotenv()\n",
    "\n",
    "OPENAI_API_KEY = os.getenv(\"OPENAI_API_KEY\")\n",
    "ALPHAVANTAGE_API_KEY = os.getenv(\"ALPHAVANTAGE_API_KEY\")\n",
    "\n",
    "if OPENAI_API_KEY is None:\n",
    "    raise Exception(\"API key is missing\")"
   ]
  },
  {
   "cell_type": "markdown",
   "id": "9d3d86cc",
   "metadata": {},
   "source": [
    "## Step 2: Define a tool"
   ]
  },
  {
   "cell_type": "code",
   "execution_count": 16,
   "id": "3997d169",
   "metadata": {},
   "outputs": [],
   "source": [
    "import requests\n",
    "\n",
    "def company_overview(symbol):\n",
    "    response = requests.get(f\"https://www.alphavantage.co/query?function=OVERVIEW&symbol={symbol}&apikey={ALPHAVANTAGE_API_KEY}\")\n",
    "    data = response.json()\n",
    "    return data['Description']\n",
    "\n",
    "def today_stock_data(symbol):\n",
    "    response = requests.get(f\"https://www.alphavantage.co/query?function=TIME_SERIES_DAILY&symbol={symbol}&outputsize=compact&apikey={ALPHAVANTAGE_API_KEY}\")\n",
    "    data = response.json()\n",
    "    return data[\"Time Series (Daily)\"][\"2025-09-30\"]"
   ]
  },
  {
   "cell_type": "markdown",
   "id": "cc4b3e24",
   "metadata": {},
   "source": [
    "## Step 3: Call a chat model normally"
   ]
  },
  {
   "cell_type": "code",
   "execution_count": null,
   "id": "23326ac5",
   "metadata": {},
   "outputs": [
    {
     "name": "stdout",
     "output_type": "stream",
     "text": [
      "I'm unable to provide real-time stock data. To get the latest stock value for IBM, please check a reliable financial news website or a stock market app such as Yahoo Finance, Google Finance, or your brokerage platform.\n"
     ]
    }
   ],
   "source": [
    "import openai\n",
    "\n",
    "client = openai.Client()\n",
    "\n",
    "response = client.responses.create(\n",
    "    model=\"gpt-4.1-nano\",\n",
    "    input=[\n",
    "        {\"role\": \"system\", \"content\": \"You are a helpful assistant.\"},\n",
    "        {\"role\": \"user\", \"content\": \"What is today's Stock data for IBM.\"},\n",
    "    ]\n",
    ")\n",
    "\n",
    "print(response.output_text)"
   ]
  },
  {
   "cell_type": "code",
   "execution_count": 19,
   "id": "eb899262",
   "metadata": {},
   "outputs": [
    {
     "data": {
      "text/plain": [
       "{'id': 'resp_0014275bc4a87bbd0068dcd532a5648197a047aa6f0518f4b7',\n",
       " 'created_at': 1759302962.0,\n",
       " 'error': None,\n",
       " 'incomplete_details': None,\n",
       " 'instructions': None,\n",
       " 'metadata': {},\n",
       " 'model': 'gpt-4.1-nano-2025-04-14',\n",
       " 'object': 'response',\n",
       " 'output': [ResponseOutputMessage(id='msg_0014275bc4a87bbd0068dcd533adf08197a1c582ad09309a60', content=[ResponseOutputText(annotations=[], text=\"I'm unable to provide real-time stock data. To get the latest stock value for IBM, please check a reliable financial news website or a stock market app such as Yahoo Finance, Google Finance, or your brokerage platform.\", type='output_text', logprobs=[])], role='assistant', status='completed', type='message')],\n",
       " 'parallel_tool_calls': True,\n",
       " 'temperature': 1.0,\n",
       " 'tool_choice': 'auto',\n",
       " 'tools': [],\n",
       " 'top_p': 1.0,\n",
       " 'background': False,\n",
       " 'conversation': None,\n",
       " 'max_output_tokens': None,\n",
       " 'max_tool_calls': None,\n",
       " 'previous_response_id': None,\n",
       " 'prompt': None,\n",
       " 'prompt_cache_key': None,\n",
       " 'reasoning': Reasoning(effort=None, generate_summary=None, summary=None),\n",
       " 'safety_identifier': None,\n",
       " 'service_tier': 'default',\n",
       " 'status': 'completed',\n",
       " 'text': ResponseTextConfig(format=ResponseFormatText(type='text'), verbosity='medium'),\n",
       " 'top_logprobs': 0,\n",
       " 'truncation': 'disabled',\n",
       " 'usage': ResponseUsage(input_tokens=25, input_tokens_details=InputTokensDetails(cached_tokens=0), output_tokens=44, output_tokens_details=OutputTokensDetails(reasoning_tokens=0), total_tokens=69),\n",
       " 'user': None,\n",
       " '_request_id': 'req_316fb95d593c92d5b823aa4cf894bd5b'}"
      ]
     },
     "execution_count": 19,
     "metadata": {},
     "output_type": "execute_result"
    }
   ],
   "source": [
    "response.__dict__"
   ]
  },
  {
   "cell_type": "code",
   "execution_count": 20,
   "id": "2fa9bee9",
   "metadata": {},
   "outputs": [
    {
     "data": {
      "text/plain": [
       "{'id': 'msg_0014275bc4a87bbd0068dcd533adf08197a1c582ad09309a60',\n",
       " 'content': [ResponseOutputText(annotations=[], text=\"I'm unable to provide real-time stock data. To get the latest stock value for IBM, please check a reliable financial news website or a stock market app such as Yahoo Finance, Google Finance, or your brokerage platform.\", type='output_text', logprobs=[])],\n",
       " 'role': 'assistant',\n",
       " 'status': 'completed',\n",
       " 'type': 'message'}"
      ]
     },
     "execution_count": 20,
     "metadata": {},
     "output_type": "execute_result"
    }
   ],
   "source": [
    "response.output[0].__dict__"
   ]
  },
  {
   "cell_type": "markdown",
   "id": "c45ab349",
   "metadata": {},
   "source": [
    "## Step 4: Define the input schema for our tool\n",
    "\n",
    "Lets try giving our `today_stock_data` function as a tool to our AI.\n",
    "\n",
    "Step 1: Define the tool in a format OpenAI can understand"
   ]
  },
  {
   "cell_type": "code",
   "execution_count": 21,
   "id": "e9ead465",
   "metadata": {},
   "outputs": [],
   "source": [
    "tools = [{\n",
    "    \"type\": \"function\",\n",
    "    \"name\": \"today_stock_data\",\n",
    "    \"description\": \"Get today's stock data.\",\n",
    "    \"parameters\": {\n",
    "        \"type\": \"object\",\n",
    "        \"properties\": {\n",
    "            \"symbol\": {\"type\": \"string\"}\n",
    "        },\n",
    "        \"required\": [\"symbol\"],\n",
    "        \"additionalProperties\": False\n",
    "    },\n",
    "    \"strict\": True\n",
    "}]"
   ]
  },
  {
   "cell_type": "markdown",
   "id": "98a9f2e8",
   "metadata": {},
   "source": [
    "## Step 5: Pass the tool schema over to the model"
   ]
  },
  {
   "cell_type": "code",
   "execution_count": 22,
   "id": "c1403cfb",
   "metadata": {},
   "outputs": [
    {
     "name": "stdout",
     "output_type": "stream",
     "text": [
      "Response(id='resp_07dbe44815d7a6780068dcd5f087b48193abf4fef80340ab8e', created_at=1759303152.0, error=None, incomplete_details=None, instructions=None, metadata={}, model='gpt-4.1-nano-2025-04-14', object='response', output=[ResponseFunctionToolCall(arguments='{\"symbol\":\"IBM\"}', call_id='call_9h0NZDXFCJiBoSbSZQHQ668W', name='today_stock_data', type='function_call', id='fc_07dbe44815d7a6780068dcd5f1ad648193bc9da42c4d33c661', status='completed')], parallel_tool_calls=True, temperature=1.0, tool_choice='auto', tools=[FunctionTool(name='today_stock_data', parameters={'type': 'object', 'properties': {'symbol': {'type': 'string'}}, 'required': ['symbol'], 'additionalProperties': False}, strict=True, type='function', description=\"Get today's stock data.\")], top_p=1.0, background=False, conversation=None, max_output_tokens=None, max_tool_calls=None, previous_response_id=None, prompt=None, prompt_cache_key=None, reasoning=Reasoning(effort=None, generate_summary=None, summary=None), safety_identifier=None, service_tier='default', status='completed', text=ResponseTextConfig(format=ResponseFormatText(type='text'), verbosity='medium'), top_logprobs=0, truncation='disabled', usage=ResponseUsage(input_tokens=45, input_tokens_details=InputTokensDetails(cached_tokens=0), output_tokens=32, output_tokens_details=OutputTokensDetails(reasoning_tokens=0), total_tokens=77), user=None, billing={'payer': 'developer'}, store=True)\n"
     ]
    }
   ],
   "source": [
    "from pprint import pprint\n",
    "\n",
    "input_messages = [{\"role\": \"user\", \"content\": \"What is today's stock data for IBM?\"}]\n",
    "\n",
    "response = client.responses.create(\n",
    "    model=\"gpt-4.1-nano\",\n",
    "    input=input_messages,\n",
    "    tools=tools,\n",
    ")\n",
    "\n",
    "pprint(response)"
   ]
  },
  {
   "cell_type": "code",
   "execution_count": 23,
   "id": "22212547",
   "metadata": {},
   "outputs": [
    {
     "data": {
      "text/plain": [
       "{'id': 'resp_07dbe44815d7a6780068dcd5f087b48193abf4fef80340ab8e',\n",
       " 'created_at': 1759303152.0,\n",
       " 'error': None,\n",
       " 'incomplete_details': None,\n",
       " 'instructions': None,\n",
       " 'metadata': {},\n",
       " 'model': 'gpt-4.1-nano-2025-04-14',\n",
       " 'object': 'response',\n",
       " 'output': [ResponseFunctionToolCall(arguments='{\"symbol\":\"IBM\"}', call_id='call_9h0NZDXFCJiBoSbSZQHQ668W', name='today_stock_data', type='function_call', id='fc_07dbe44815d7a6780068dcd5f1ad648193bc9da42c4d33c661', status='completed')],\n",
       " 'parallel_tool_calls': True,\n",
       " 'temperature': 1.0,\n",
       " 'tool_choice': 'auto',\n",
       " 'tools': [FunctionTool(name='today_stock_data', parameters={'type': 'object', 'properties': {'symbol': {'type': 'string'}}, 'required': ['symbol'], 'additionalProperties': False}, strict=True, type='function', description=\"Get today's stock data.\")],\n",
       " 'top_p': 1.0,\n",
       " 'background': False,\n",
       " 'conversation': None,\n",
       " 'max_output_tokens': None,\n",
       " 'max_tool_calls': None,\n",
       " 'previous_response_id': None,\n",
       " 'prompt': None,\n",
       " 'prompt_cache_key': None,\n",
       " 'reasoning': Reasoning(effort=None, generate_summary=None, summary=None),\n",
       " 'safety_identifier': None,\n",
       " 'service_tier': 'default',\n",
       " 'status': 'completed',\n",
       " 'text': ResponseTextConfig(format=ResponseFormatText(type='text'), verbosity='medium'),\n",
       " 'top_logprobs': 0,\n",
       " 'truncation': 'disabled',\n",
       " 'usage': ResponseUsage(input_tokens=45, input_tokens_details=InputTokensDetails(cached_tokens=0), output_tokens=32, output_tokens_details=OutputTokensDetails(reasoning_tokens=0), total_tokens=77),\n",
       " 'user': None,\n",
       " '_request_id': 'req_c15d44df9ad7cfc4605af9aa79a2b7e9'}"
      ]
     },
     "execution_count": 23,
     "metadata": {},
     "output_type": "execute_result"
    }
   ],
   "source": [
    "response.__dict__"
   ]
  },
  {
   "cell_type": "code",
   "execution_count": 24,
   "id": "d476bcd4",
   "metadata": {},
   "outputs": [
    {
     "data": {
      "text/plain": [
       "{'arguments': '{\"symbol\":\"IBM\"}',\n",
       " 'call_id': 'call_9h0NZDXFCJiBoSbSZQHQ668W',\n",
       " 'name': 'today_stock_data',\n",
       " 'type': 'function_call',\n",
       " 'id': 'fc_07dbe44815d7a6780068dcd5f1ad648193bc9da42c4d33c661',\n",
       " 'status': 'completed'}"
      ]
     },
     "execution_count": 24,
     "metadata": {},
     "output_type": "execute_result"
    }
   ],
   "source": [
    "response.output[0].__dict__"
   ]
  },
  {
   "cell_type": "markdown",
   "id": "c4fea85f",
   "metadata": {},
   "source": [
    "## Step 6: Format the tool call response from the LLM"
   ]
  },
  {
   "cell_type": "code",
   "execution_count": 25,
   "id": "5b5268da",
   "metadata": {},
   "outputs": [
    {
     "name": "stdout",
     "output_type": "stream",
     "text": [
      "Tool call:  ResponseFunctionToolCall(arguments='{\"symbol\":\"IBM\"}', call_id='call_9h0NZDXFCJiBoSbSZQHQ668W', name='today_stock_data', type='function_call', id='fc_07dbe44815d7a6780068dcd5f1ad648193bc9da42c4d33c661', status='completed')\n",
      "Arguments:  {'symbol': 'IBM'}\n"
     ]
    }
   ],
   "source": [
    "import json\n",
    "\n",
    "tool_call = response.output[0]\n",
    "args = json.loads(tool_call.arguments)\n",
    "\n",
    "print(\"Tool call: \", tool_call)\n",
    "print(\"Arguments: \", args)"
   ]
  },
  {
   "cell_type": "code",
   "execution_count": 26,
   "id": "6460eee2",
   "metadata": {},
   "outputs": [
    {
     "data": {
      "text/plain": [
       "'{\"symbol\":\"IBM\"}'"
      ]
     },
     "execution_count": 26,
     "metadata": {},
     "output_type": "execute_result"
    }
   ],
   "source": [
    "tool_call.arguments"
   ]
  },
  {
   "cell_type": "markdown",
   "id": "df9ff324",
   "metadata": {},
   "source": [
    "## Step 7: Pass on the tool call arguments to our tool/python function\n",
    "\n",
    "We now need to pass on the arguments received by the model to our python function or tool"
   ]
  },
  {
   "cell_type": "code",
   "execution_count": 27,
   "id": "33adbf82",
   "metadata": {},
   "outputs": [
    {
     "data": {
      "text/plain": [
       "{'1. open': '280.8800',\n",
       " '2. high': '286.0250',\n",
       " '3. low': '280.5200',\n",
       " '4. close': '282.1600',\n",
       " '5. volume': '5926924'}"
      ]
     },
     "execution_count": 27,
     "metadata": {},
     "output_type": "execute_result"
    }
   ],
   "source": [
    "result = today_stock_data(args[\"symbol\"])\n",
    "result"
   ]
  },
  {
   "cell_type": "markdown",
   "id": "e1829435",
   "metadata": {},
   "source": [
    "## Step 8: Append the response of the tool into the message list"
   ]
  },
  {
   "cell_type": "code",
   "execution_count": 28,
   "id": "93c04033",
   "metadata": {},
   "outputs": [
    {
     "name": "stdout",
     "output_type": "stream",
     "text": [
      "[{'content': \"What is today's stock data for IBM?\", 'role': 'user'},\n",
      " ResponseFunctionToolCall(arguments='{\"symbol\":\"IBM\"}', call_id='call_9h0NZDXFCJiBoSbSZQHQ668W', name='today_stock_data', type='function_call', id='fc_07dbe44815d7a6780068dcd5f1ad648193bc9da42c4d33c661', status='completed'),\n",
      " {'call_id': 'call_9h0NZDXFCJiBoSbSZQHQ668W',\n",
      "  'output': \"{'1. open': '280.8800', '2. high': '286.0250', '3. low': \"\n",
      "            \"'280.5200', '4. close': '282.1600', '5. volume': '5926924'}\",\n",
      "  'type': 'function_call_output'}]\n"
     ]
    }
   ],
   "source": [
    "input_messages.append(tool_call)        # append model's function call message\n",
    "input_messages.append({                 # append result message\n",
    "    \"type\": \"function_call_output\",\n",
    "    \"call_id\": tool_call.call_id,\n",
    "    \"output\": str(result)\n",
    "})\n",
    "\n",
    "pprint(input_messages)"
   ]
  },
  {
   "cell_type": "markdown",
   "id": "09a76b0c",
   "metadata": {},
   "source": [
    "## Step 9: Pass the message list into the model"
   ]
  },
  {
   "cell_type": "code",
   "execution_count": 29,
   "id": "4a23ed4b",
   "metadata": {},
   "outputs": [
    {
     "name": "stdout",
     "output_type": "stream",
     "text": [
      "(\"Today's stock data for IBM is as follows:\\n\"\n",
      " '- Opening price: $280.88\\n'\n",
      " '- Highest price: $286.03\\n'\n",
      " '- Lowest price: $280.52\\n'\n",
      " '- Closing price: $282.16\\n'\n",
      " '- Volume: 5,926,924 shares')\n"
     ]
    }
   ],
   "source": [
    "response_2 = client.responses.create(\n",
    "    model=\"gpt-4.1-nano\",\n",
    "    input=input_messages,\n",
    "    tools=tools,\n",
    ")\n",
    "pprint(response_2.output_text)"
   ]
  }
 ],
 "metadata": {
  "kernelspec": {
   "display_name": "agentic-ai-course",
   "language": "python",
   "name": "python3"
  },
  "language_info": {
   "codemirror_mode": {
    "name": "ipython",
    "version": 3
   },
   "file_extension": ".py",
   "mimetype": "text/x-python",
   "name": "python",
   "nbconvert_exporter": "python",
   "pygments_lexer": "ipython3",
   "version": "3.13.3"
  }
 },
 "nbformat": 4,
 "nbformat_minor": 5
}
