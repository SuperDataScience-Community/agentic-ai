{
 "cells": [
  {
   "cell_type": "code",
   "execution_count": 3,
   "id": "8f696afb",
   "metadata": {},
   "outputs": [],
   "source": [
    "import os\n",
    "from openai import OpenAI\n",
    "from dotenv import load_dotenv\n",
    "from IPython.display import display, Markdown\n",
    "\n",
    "load_dotenv()\n",
    "\n",
    "OPENAI_API_KEY = os.getenv(\"OPENAI_API_KEY\")\n",
    "GEMINI_API_KEY = os.getenv(\"GEMINI_API_KEY\")\n",
    "ANTHROPIC_API_KEY = os.getenv(\"ANTHROPIC_API_KEY\")\n",
    "\n",
    "# check if API keys are set\n",
    "if not OPENAI_API_KEY:\n",
    "    raise ValueError(\"Missing OpenAI API key\")\n",
    "if not GEMINI_API_KEY:\n",
    "    raise ValueError(\"Missing Gemini API key\")\n",
    "if not ANTHROPIC_API_KEY:\n",
    "    raise ValueError(\"Missing Anthropic API key\")"
   ]
  },
  {
   "cell_type": "markdown",
   "id": "4a8641ab",
   "metadata": {},
   "source": [
    "## Generate 3 Customer Support Tickets"
   ]
  },
  {
   "cell_type": "code",
   "execution_count": 4,
   "id": "11ab44e3",
   "metadata": {},
   "outputs": [],
   "source": [
    "message = \"I want you to generate a customer support ticket for a 3rd party tech re-seller. \"\n",
    "message += \"The ticket should be a single sentence describing a common issue a customer might face with their product or service. \"\n",
    "\n",
    "messages = [{\"role\": \"user\", \"content\": message}]"
   ]
  },
  {
   "cell_type": "code",
   "execution_count": 5,
   "id": "2aa74d83",
   "metadata": {},
   "outputs": [
    {
     "data": {
      "text/markdown": [
       "The customer is experiencing difficulty activating their recently purchased software license on multiple devices."
      ],
      "text/plain": [
       "<IPython.core.display.Markdown object>"
      ]
     },
     "metadata": {},
     "output_type": "display_data"
    }
   ],
   "source": [
    "openai_client = OpenAI()\n",
    "\n",
    "openai_response = openai_client.chat.completions.create(\n",
    "    model=\"gpt-4.1-nano\",\n",
    "    messages=messages\n",
    ")\n",
    "\n",
    "ticket = openai_response.choices[0].message.content\n",
    "\n",
    "display(Markdown(ticket))"
   ]
  },
  {
   "cell_type": "markdown",
   "id": "38015b29",
   "metadata": {},
   "source": [
    "## Evaluator Agent should assess the quality and completeness of the ticket and suggest improvements"
   ]
  },
  {
   "cell_type": "code",
   "execution_count": 11,
   "id": "424c9084",
   "metadata": {},
   "outputs": [],
   "source": [
    "message = \"You are to evaluate customer support ticket and assess the quality and completeness of the ticket and suggest improvements. \"\n",
    "message += \"Include the ticket in the evaluation. Here is the ticket:\\n\\n\"\n",
    "message += ticket\n",
    "\n",
    "messages = [{\"role\": \"user\", \"content\": message}]"
   ]
  },
  {
   "cell_type": "code",
   "execution_count": 8,
   "id": "d52a9bab",
   "metadata": {},
   "outputs": [],
   "source": [
    "anthropic_client = OpenAI(api_key=ANTHROPIC_API_KEY, base_url=\"https://api.anthropic.com/v1\")"
   ]
  },
  {
   "cell_type": "code",
   "execution_count": 12,
   "id": "70cfade7",
   "metadata": {},
   "outputs": [
    {
     "data": {
      "text/markdown": [
       "I'll help you evaluate this customer support ticket. However, it seems that the ticket you provided is very brief and lacks important details. Let me break down the evaluation and suggest improvements:\n",
       "\n",
       "Current Ticket Evaluation:\n",
       "\n",
       "Strengths:\n",
       "- Identifies the core issue (license activation problem)\n",
       "- Indicates the issue occurs across multiple devices\n",
       "\n",
       "Weaknesses:\n",
       "- Lacks specific details such as:\n",
       "  1. Software name/type\n",
       "  2. Number of devices\n",
       "  3. Error messages encountered\n",
       "  4. Operating systems of the devices\n",
       "  5. Steps already attempted by the customer\n",
       "  6. Purchase date and method of license acquisition\n",
       "\n",
       "Recommended Ticket Improvement Template:\n",
       "\n",
       "1. Customer Information:\n",
       "- Name:\n",
       "- Contact method (email/phone):\n",
       "- Purchase date:\n",
       "\n",
       "2. Product Details:\n",
       "- Software name:\n",
       "- License type:\n",
       "- License purchase method:\n",
       "\n",
       "3. Issue Description:\n",
       "- Specific error messages\n",
       "- Devices and their operating systems\n",
       "- Steps already tried by customer\n",
       "\n",
       "4. Additional Context:\n",
       "- Any recent software/system updates\n",
       "- Screenshots of error messages\n",
       "\n",
       "This expanded template would provide support agents with comprehensive information to diagnose and resolve the license activation issue more efficiently.\n",
       "\n",
       "Would you like me to draft a more detailed version of the ticket?"
      ],
      "text/plain": [
       "<IPython.core.display.Markdown object>"
      ]
     },
     "metadata": {},
     "output_type": "display_data"
    }
   ],
   "source": [
    "anthropic_response = anthropic_client.chat.completions.create(\n",
    "    model=\"claude-3-5-haiku-latest\",\n",
    "    messages=messages\n",
    ")\n",
    "\n",
    "evaluation = anthropic_response.choices[0].message.content\n",
    "\n",
    "display(Markdown(evaluation))"
   ]
  },
  {
   "cell_type": "markdown",
   "id": "ed235e15",
   "metadata": {},
   "source": [
    "## Now Gemini should revise the tickets based on evaluator feedback"
   ]
  },
  {
   "cell_type": "code",
   "execution_count": 13,
   "id": "9b123501",
   "metadata": {},
   "outputs": [],
   "source": [
    "message = \"You are to revise the tickets based on evaluator feedback, aiming for clarity and actionable details. \"\n",
    "message += \"Ticket:\\n\" + ticket + \"\\n\\n\"\n",
    "message += \"Evaluation:\\n\" + evaluation\n",
    "\n",
    "messages = [{\"role\": \"user\", \"content\": message}]"
   ]
  },
  {
   "cell_type": "code",
   "execution_count": 14,
   "id": "5c2304b7",
   "metadata": {},
   "outputs": [],
   "source": [
    "gemini_client = OpenAI(api_key=GEMINI_API_KEY, base_url=\"https://generativelanguage.googleapis.com/v1beta/openai/\")"
   ]
  },
  {
   "cell_type": "code",
   "execution_count": 15,
   "id": "3addbecc",
   "metadata": {},
   "outputs": [
    {
     "data": {
      "text/markdown": [
       "Thank you for the detailed evaluation and the excellent template! You're absolutely right; the original ticket was far too brief.\n",
       "\n",
       "Based on your feedback and the recommended template, here's a revised version of the ticket, incorporating plausible details to make it actionable. I'll highlight that these are *example* details for demonstration purposes, as the original input didn't provide them.\n",
       "\n",
       "---\n",
       "\n",
       "**Revised Customer Support Ticket:**\n",
       "\n",
       "**Subject: Unable to activate ProDesign Suite license on multiple devices - [Customer Name]**\n",
       "\n",
       "---\n",
       "\n",
       "**1. Customer Information:**\n",
       "*   **Name:** John Doe\n",
       "*   **Contact method (email/phone):** john.doe@example.com (preferred), +1 (555) 123-4567\n",
       "*   **Purchase date:** October 26, 2023 (purchased within the last week)\n",
       "\n",
       "**2. Product Details:**\n",
       "*   **Software name:** ProDesign Suite v5.2\n",
       "*   **License type:** Perpetual Multi-Device License (purchased for up to 3 devices)\n",
       "*   **License purchase method:** Purchased directly from [Our Company] website\n",
       "\n",
       "**3. Issue Description:**\n",
       "*   **Specific error messages:**\n",
       "    *   On Device 1 (Laptop): \"Activation Failed: License limit exceeded. Please deactivate on another device or contact support.\"\n",
       "    *   On Device 2 (Desktop): \"Invalid License Key or Device Limit Reached.\"\n",
       "    *   On Device 3 (MacBook Pro): Software runs in trial mode; activation attempts result in no specific error, but the activation window closes without successful activation.\n",
       "*   **Devices and their operating systems:**\n",
       "    *   Device 1: HP Spectre Laptop (Windows 11 Pro, version 22H2)\n",
       "    *   Device 2: Custom-built Desktop PC (Windows 10 Home, version 21H2)\n",
       "    *   Device 3: MacBook Pro M1 (macOS Sonoma 14.1)\n",
       "*   **Steps already tried by customer:**\n",
       "    *   Re-entered the license key multiple times on all devices.\n",
       "    *   Restarted the ProDesign Suite application and devices.\n",
       "    *   Checked internet connection (stable).\n",
       "    *   Attempted to \"deactivate\" a non-existent previous activation from within the software on one device (unsuccessful as it was a fresh installation).\n",
       "    *   Verified firewall settings (no obvious blocks).\n",
       "    *   Cleared software cache (where applicable).\n",
       "\n",
       "**4. Additional Context:**\n",
       "*   **Any recent software/system updates:** The HP Laptop was recently updated to Windows 11 22H2 a few days prior to the ProDesign Suite installation. Other devices have not had major OS updates recently.\n",
       "*   **Screenshots of error messages:** Customer has screenshots of the error messages from Device 1 and Device 2, available to provide if requested.\n",
       "\n",
       "---\n",
       "\n",
       "This revised ticket provides a much clearer picture for a support agent, allowing them to quickly understand the scope of the problem, the specific software and environment, and what troubleshooting steps have already been attempted."
      ],
      "text/plain": [
       "<IPython.core.display.Markdown object>"
      ]
     },
     "metadata": {},
     "output_type": "display_data"
    }
   ],
   "source": [
    "response = gemini_client.chat.completions.create(\n",
    "    model=\"gemini-2.5-flash\",\n",
    "    messages=messages\n",
    ")\n",
    "\n",
    "responses = response.choices[0].message.content\n",
    "\n",
    "display(Markdown(responses))"
   ]
  }
 ],
 "metadata": {
  "kernelspec": {
   "display_name": "agentic-ai-course",
   "language": "python",
   "name": "python3"
  },
  "language_info": {
   "codemirror_mode": {
    "name": "ipython",
    "version": 3
   },
   "file_extension": ".py",
   "mimetype": "text/x-python",
   "name": "python",
   "nbconvert_exporter": "python",
   "pygments_lexer": "ipython3",
   "version": "3.13.3"
  }
 },
 "nbformat": 4,
 "nbformat_minor": 5
}
