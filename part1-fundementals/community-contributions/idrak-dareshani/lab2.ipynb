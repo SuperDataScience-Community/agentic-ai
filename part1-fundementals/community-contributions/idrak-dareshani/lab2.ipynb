{
 "cells": [
  {
   "cell_type": "markdown",
   "id": "76aa0469",
   "metadata": {},
   "source": [
    "# Structured Outputs\n",
    "\n",
    "LLMs regurgitate out text and that is great for so many applications. But in order to build strong, robust systems and applications, we need to make sense of the chaos sometimes by receiving a pre-determined structured output everytime an LLM is called."
   ]
  },
  {
   "cell_type": "code",
   "execution_count": 26,
   "id": "0fbfc53d",
   "metadata": {},
   "outputs": [],
   "source": [
    "import os\n",
    "from openai import OpenAI\n",
    "from dotenv import load_dotenv\n",
    "from IPython.display import display, Markdown\n",
    "\n",
    "\n",
    "load_dotenv()\n",
    "\n",
    "OPENAI_API_KEY = os.getenv(\"OPENAI_API_KEY\")\n",
    "GEMINI_API_KEY = os.getenv(\"GEMINI_API_KEY\")\n",
    "ANTHROPIC_API_KEY = os.getenv(\"ANTHROPIC_API_KEY\")\n",
    "\n",
    "# check if API keys are set\n",
    "if not OPENAI_API_KEY:\n",
    "    raise ValueError(\"Missing OpenAI API key\")\n",
    "if not GEMINI_API_KEY:\n",
    "    raise ValueError(\"Missing Gemini API key\")\n",
    "if not ANTHROPIC_API_KEY:\n",
    "    raise ValueError(\"Missing Anthropic API key\")"
   ]
  },
  {
   "cell_type": "code",
   "execution_count": 27,
   "id": "d92a7c30",
   "metadata": {},
   "outputs": [],
   "source": [
    "from pydantic import BaseModel\n",
    "\n",
    "class ProductReview(BaseModel):\n",
    "    product: str\n",
    "    review: str\n",
    "\n",
    "class ReviewResponse(BaseModel):\n",
    "    company: str\n",
    "    moderate: str\n",
    "    wittybot: str\n",
    "\n",
    "class ReviewEvaluation(BaseModel):\n",
    "    passed: bool\n",
    "    feedback: str"
   ]
  },
  {
   "cell_type": "code",
   "execution_count": 28,
   "id": "9b252a5e",
   "metadata": {},
   "outputs": [],
   "source": [
    "user_message = \"I want you to generate product review of a new generation of HP laptop series. \"\n",
    "user_message += \"The review should be about user experience without too much technical details of the product. \"\n",
    "\n",
    "messages = [{\"role\": \"user\", \"content\": user_message}]"
   ]
  },
  {
   "cell_type": "code",
   "execution_count": 29,
   "id": "775634e5",
   "metadata": {},
   "outputs": [],
   "source": [
    "client = OpenAI()\n",
    "\n",
    "openai_response = client.chat.completions.parse(\n",
    "    model=\"gpt-4.1-nano\",\n",
    "    messages=messages,\n",
    "    response_format=ProductReview\n",
    ")\n",
    "\n",
    "reviews = openai_response.choices[0].message.parsed"
   ]
  },
  {
   "cell_type": "code",
   "execution_count": 30,
   "id": "a81859aa",
   "metadata": {},
   "outputs": [
    {
     "data": {
      "text/plain": [
       "'HP NextGen Laptop Series'"
      ]
     },
     "execution_count": 30,
     "metadata": {},
     "output_type": "execute_result"
    }
   ],
   "source": [
    "reviews.product"
   ]
  },
  {
   "cell_type": "code",
   "execution_count": 31,
   "id": "f75cee14",
   "metadata": {},
   "outputs": [
    {
     "data": {
      "text/plain": [
       "\"The new HP NextGen laptop series offers a sleek and modern design that feels premium to the touch. The user experience is seamless, with quick startup times and intuitive navigation. The keyboard is comfortable for extended typing sessions, and the display provides vibrant colors and sharp visuals. Navigating through applications is smooth, and the overall performance feels responsive and reliable. It's a great choice for both work and casual use, making daily tasks more enjoyable and efficient.\""
      ]
     },
     "execution_count": 31,
     "metadata": {},
     "output_type": "execute_result"
    }
   ],
   "source": [
    "reviews.review"
   ]
  },
  {
   "cell_type": "code",
   "execution_count": 32,
   "id": "c5b84eb6",
   "metadata": {},
   "outputs": [],
   "source": [
    "message = \"You are to respond to the product review in 3 different styles (company, moderate and witty). \\n\\n\"\n",
    "message += f\"Product: {reviews.product}\\n\"\n",
    "message += f\"Review: {reviews.review}\\n\\n\"\n",
    "\n",
    "messages = [{\"role\": \"user\", \"content\": message}]"
   ]
  },
  {
   "cell_type": "code",
   "execution_count": 33,
   "id": "c30f487e",
   "metadata": {},
   "outputs": [],
   "source": [
    "response = client.chat.completions.parse(\n",
    "    model=\"gpt-4.1-nano\",\n",
    "    messages=messages,\n",
    "    response_format=ReviewResponse\n",
    ")\n",
    "\n",
    "response = response.choices[0].message.parsed"
   ]
  },
  {
   "cell_type": "code",
   "execution_count": 34,
   "id": "65bcd306",
   "metadata": {},
   "outputs": [
    {
     "data": {
      "text/markdown": [
       "Thank you for sharing your positive experience with the HP NextGen Laptop Series. We're thrilled to hear that the design, performance, and display meet your expectations and enhance your daily tasks."
      ],
      "text/plain": [
       "<IPython.core.display.Markdown object>"
      ]
     },
     "metadata": {},
     "output_type": "display_data"
    }
   ],
   "source": [
    "display(Markdown(response.company))"
   ]
  },
  {
   "cell_type": "code",
   "execution_count": 35,
   "id": "38d70acf",
   "metadata": {},
   "outputs": [
    {
     "data": {
      "text/markdown": [
       "Thank you for your detailed review of the HP NextGen Laptop Series. We appreciate your feedback and are pleased to hear that you're satisfied with its design and performance. If you have any further comments or need assistance, feel free to reach out."
      ],
      "text/plain": [
       "<IPython.core.display.Markdown object>"
      ]
     },
     "metadata": {},
     "output_type": "display_data"
    }
   ],
   "source": [
    "display(Markdown(response.moderate))"
   ]
  },
  {
   "cell_type": "code",
   "execution_count": 36,
   "id": "18a87b7d",
   "metadata": {},
   "outputs": [
    {
     "data": {
      "text/markdown": [
       "Sounds like the HP NextGen Laptop Series has become your new best friend—sleek, reliable, and ready to make your daily grind a bit more glamorous. Thanks for the rave review!"
      ],
      "text/plain": [
       "<IPython.core.display.Markdown object>"
      ]
     },
     "metadata": {},
     "output_type": "display_data"
    }
   ],
   "source": [
    "display(Markdown(response.wittybot))"
   ]
  },
  {
   "cell_type": "code",
   "execution_count": null,
   "id": "2db24768",
   "metadata": {},
   "outputs": [],
   "source": [
    "message = \"You are to evaluate the proposed responses by company, witty bot, moderate for the following product review. \"\n",
    "message += \"You will determine which response is appropriate for the product \"\n",
    "message += f\"Product: {reviews.product}\\n\"\n",
    "message += f\"Review: {reviews.review}\\n\\n\"\n",
    "message += f\"Company Response: {response.company}\\n\"\n",
    "message += f\"Moderate Response: {response.moderate}\\n\\n\"\n",
    "message += f\"Witty Bot Response: {response.wittybot}\\n\\n\"\n",
    "\n",
    "messages = [{\"role\": \"user\", \"content\": message}]"
   ]
  },
  {
   "cell_type": "code",
   "execution_count": 44,
   "id": "02b53969",
   "metadata": {},
   "outputs": [],
   "source": [
    "evaluate = client.chat.completions.parse(\n",
    "    model=\"gpt-4.1-nano\",\n",
    "    messages=messages,\n",
    "    response_format=ReviewEvaluation\n",
    ")\n",
    "\n",
    "evaluate = evaluate.choices[0].message.parsed"
   ]
  },
  {
   "cell_type": "code",
   "execution_count": 46,
   "id": "75e6ea4c",
   "metadata": {},
   "outputs": [
    {
     "name": "stdout",
     "output_type": "stream",
     "text": [
      "Pass or not:  True\n"
     ]
    }
   ],
   "source": [
    "print(\"Pass or not: \", evaluate.passed)"
   ]
  },
  {
   "cell_type": "code",
   "execution_count": 45,
   "id": "e6e96ec5",
   "metadata": {},
   "outputs": [
    {
     "data": {
      "text/markdown": [
       "Feedback: The witty bot response is appropriate and engages positively with the review, adding a touch of humor and enthusiasm that aligns well with the positive feedback."
      ],
      "text/plain": [
       "<IPython.core.display.Markdown object>"
      ]
     },
     "metadata": {},
     "output_type": "display_data"
    }
   ],
   "source": [
    "#display(Markdown(evaluate.passed))\n",
    "display(Markdown(f\"Feedback: {evaluate.feedback}\"))"
   ]
  }
 ],
 "metadata": {
  "kernelspec": {
   "display_name": "agentic-ai-course",
   "language": "python",
   "name": "python3"
  },
  "language_info": {
   "codemirror_mode": {
    "name": "ipython",
    "version": 3
   },
   "file_extension": ".py",
   "mimetype": "text/x-python",
   "name": "python",
   "nbconvert_exporter": "python",
   "pygments_lexer": "ipython3",
   "version": "3.13.3"
  }
 },
 "nbformat": 4,
 "nbformat_minor": 5
}
