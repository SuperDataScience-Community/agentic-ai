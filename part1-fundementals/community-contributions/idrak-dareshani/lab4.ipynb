{
 "cells": [
  {
   "cell_type": "markdown",
   "id": "8696980e",
   "metadata": {},
   "source": [
    "# Flight Agent: Your Travel Planner\n",
    "\n",
    "Time for an exciting use case. Now is the time to use all the knowledge we have gathered so far to build a complete AI Agent ourselves.\n",
    "\n",
    "## Plan of Attack:\n",
    "\n",
    "1. Import libraries\n",
    "2. Define our tools\n",
    "3. Define our tools schema\n",
    "4. Call the OpenAI Responses API\n",
    "5. Handle tool calls\n",
    "6. Chat logic\n",
    "7. Gradio Interface"
   ]
  },
  {
   "cell_type": "markdown",
   "id": "d6a81668",
   "metadata": {},
   "source": [
    "## Step 1: Import libraries"
   ]
  },
  {
   "cell_type": "code",
   "execution_count": null,
   "id": "6933b082",
   "metadata": {},
   "outputs": [],
   "source": [
    "import os\n",
    "from dotenv import load_dotenv\n",
    "import json\n",
    "from anthropic import Anthropic\n",
    "from openai import OpenAI\n",
    "from utils import function_to_tool\n",
    "from IPython.display import display, Markdown\n",
    "import gradio as gr\n",
    "\n",
    "load_dotenv()\n",
    "\n",
    "ANTHROPIC_API_KEY = os.getenv(\"ANTHROPIC_API_KEY\")\n",
    "if not ANTHROPIC_API_KEY:\n",
    "    raise ValueError(\"ANTHROPIC_API_KEY is not set in the environment variables.\")\n",
    "\n",
    "OPENAI_API_KEY = os.getenv(\"OPENAI_API_KEY\")\n",
    "if not OPENAI_API_KEY:\n",
    "    raise ValueError(\"OPENAI_API_KEY is not set in the environment variables.\")\n",
    "\n",
    "anthropic_client = Anthropic()\n",
    "openai_client = OpenAI()"
   ]
  },
  {
   "cell_type": "markdown",
   "id": "3d619380",
   "metadata": {},
   "source": [
    "## Step 2: Define our tools"
   ]
  },
  {
   "cell_type": "code",
   "execution_count": null,
   "id": "1b353661",
   "metadata": {},
   "outputs": [],
   "source": [
    "query = \"I want to travel alone from abu dhabi to tokyo tomorrow and will be back in 2 days. what are the best flights available for economy class?\"\n",
    "\n",
    "# Flight search tool\n",
    "response = openai_client.responses.create(\n",
    "    model=\"gpt-5\",\n",
    "    input=query,\n",
    "    tools=[{\n",
    "        \"type\": \"web_search\",\n",
    "        \"filters\":{\n",
    "            \"allowed_domains\": [\"skyscanner.com\", \"expedia.com\", \"booking.com\"]    \n",
    "        }\n",
    "    }]\n",
    ")\n",
    "\n",
    "print(\"Search Results: \\n\", response.output[-1].content[0].text)"
   ]
  },
  {
   "cell_type": "code",
   "execution_count": 90,
   "id": "a6fafc54",
   "metadata": {},
   "outputs": [],
   "source": [
    "def flight_search(query: str) -> str:\n",
    "    \"\"\"\n",
    "    Search for flights based on the provided query and optional domains.\n",
    "    \n",
    "    Args:\n",
    "        query (str): The search query for flights.\n",
    "        include_domains (list, optional): List of domains to include in the search.\n",
    "        \n",
    "    Returns:\n",
    "        dict: Search results containing flight information.\n",
    "    \"\"\"\n",
    "    response = openai_client.responses.create(\n",
    "        model=\"gpt-5\",\n",
    "        input=query,\n",
    "        tools=[{\n",
    "            \"type\": \"web_search\",\n",
    "            \"filters\":{\n",
    "                \"allowed_domains\": [\"skyscanner.com\", \"expedia.com\", \"booking.com\"]    \n",
    "            }\n",
    "        }]\n",
    "    )\n",
    "    \n",
    "    return response.output[-1].content[0].text"
   ]
  },
  {
   "cell_type": "code",
   "execution_count": null,
   "id": "4cd7550a",
   "metadata": {},
   "outputs": [],
   "source": [
    "query = \"What are the best hotels in tokyo and osaka for tomorrow?\"\n",
    "\n",
    "# Hotel search tool\n",
    "response = openai_client.responses.create(\n",
    "    model=\"gpt-5\",\n",
    "    input=query,\n",
    "    tools=[{\n",
    "        \"type\": \"web_search\",\n",
    "        \"filters\":{\n",
    "            \"allowed_domains\": [\"airbnb.com\", \"booking.com\"]    \n",
    "        }\n",
    "    }]\n",
    ")\n",
    "\n",
    "print(\"Search Results: \\n\", response.output[-1].content[0].text)"
   ]
  },
  {
   "cell_type": "code",
   "execution_count": 91,
   "id": "c52c3276",
   "metadata": {},
   "outputs": [],
   "source": [
    "def hotel_search(query: str) -> dict:\n",
    "    \"\"\"\n",
    "    Search for hotels based on the provided query and optional domains.\n",
    "    \n",
    "    Args:\n",
    "        query (str): The search query for hotels.\n",
    "        include_domains (list, optional): List of domains to include in the search.\n",
    "        \n",
    "    Returns:\n",
    "        dict: Search results containing hotel information.\n",
    "    \"\"\"\n",
    "    response = openai_client.responses.create(\n",
    "        model=\"gpt-5\",\n",
    "        input=query,\n",
    "        tools=[{\n",
    "            \"type\": \"web_search\",\n",
    "            \"filters\":{\n",
    "                \"allowed_domains\": [\"airbnb.com\", \"booking.com\"]    \n",
    "            }\n",
    "        }]\n",
    "    )\n",
    "    return response.output[-1].content[0].text"
   ]
  },
  {
   "cell_type": "markdown",
   "id": "456d3f02",
   "metadata": {},
   "source": [
    "## Step 3: Define our tools schema"
   ]
  },
  {
   "cell_type": "code",
   "execution_count": 94,
   "id": "0531cbaf",
   "metadata": {},
   "outputs": [],
   "source": [
    "flight_tool_schema = function_to_tool(flight_search)\n",
    "hotel_tool_schema = function_to_tool(hotel_search)"
   ]
  },
  {
   "cell_type": "markdown",
   "id": "5d918dd6",
   "metadata": {},
   "source": [
    "## Step 4: Prompt Template"
   ]
  },
  {
   "cell_type": "code",
   "execution_count": 89,
   "id": "48e6c578",
   "metadata": {},
   "outputs": [],
   "source": [
    "class PromptTemplate:\n",
    "    def __init__(self, template: str, input_variables: list = [str]):\n",
    "        self.template = template\n",
    "        self.input_variables = input_variables\n",
    "\n",
    "    def format(self, **kwargs) -> str:\n",
    "        return self.template.format(**{k: kwargs[k] for k in self.input_variables})"
   ]
  },
  {
   "cell_type": "code",
   "execution_count": 111,
   "id": "33513c72",
   "metadata": {},
   "outputs": [],
   "source": [
    "prompt = PromptTemplate(\n",
    "    template=\"I want to travel to {destination} from {origin} on {departure_date} and return on {return_date}. What are the best options for {class_type} class\",\n",
    "    input_variables=[\"destination\", \"origin\", \"departure_date\", \"return_date\", \"class_type\"]\n",
    ")"
   ]
  },
  {
   "cell_type": "code",
   "execution_count": 112,
   "id": "b090111f",
   "metadata": {},
   "outputs": [],
   "source": [
    "user_message = prompt.format(\n",
    "    destination=\"Tokyo\", origin=\"Abu Dhabi\", departure_date=\"2025-10-05\", return_date=\"2025-10-10\", class_type=\"economy\")"
   ]
  },
  {
   "cell_type": "markdown",
   "id": "d68b134f",
   "metadata": {},
   "source": [
    "## Step 5: Call the OpenAI Responses API"
   ]
  },
  {
   "cell_type": "code",
   "execution_count": 113,
   "id": "702abd0b",
   "metadata": {},
   "outputs": [],
   "source": [
    "system_message = \"\"\"\n",
    "\n",
    "You are a helpful travel planner and your are to assist the user in planning their travel itinerary.\n",
    "\n",
    "1. Use the provided details to search for the best flight and hotel options using the provided tools.\n",
    "2. Summarize the results in a neatly formatted itinerary.\n",
    "3. Do not ask the user any questions, just provide the itinerary based on the details provided.\n",
    "4. Make the itinerary clear, helpful and easy to read.\n",
    "\n",
    "Example flow:\n",
    "- Receive the user's destination, travel dates, and preferences.\n",
    "- Use your search tool to find the best flight options.\n",
    "- Use your search tool to find the best hotel options.\n",
    "- Summarize the results in a neatly formatted itinerary.\n",
    "\n",
    "---\n",
    "**Your Adventure Awaits!** ✈️🏨🌍\n",
    "- Destination: {destination}\n",
    "- Origin: {origin}\n",
    "- Departure Date: {departure_date}\n",
    "- Return Date: {return_date}\n",
    "- Class Type: {class_type}\n",
    "\n",
    "**Flight Options:**\n",
    "{flight_options}\n",
    "\n",
    "**Hotel Options:**\n",
    "{hotel_options}\n",
    "\n",
    "Have a fantastic trip!\n",
    "\n",
    "Only return the final itinerary, do not include any other text.\n",
    "\"\"\""
   ]
  },
  {
   "cell_type": "code",
   "execution_count": 151,
   "id": "54ca3a6e",
   "metadata": {},
   "outputs": [],
   "source": [
    "input_list = [{\"role\": \"system\", \"content\": system_message},\n",
    "              {\"role\": \"user\", \"content\": user_message}]"
   ]
  },
  {
   "cell_type": "code",
   "execution_count": 150,
   "id": "4e4ba4fb",
   "metadata": {},
   "outputs": [],
   "source": [
    "def get_response(input_list):\n",
    "    response = openai_client.responses.create(\n",
    "        model=\"gpt-5\",\n",
    "        input=input_list,\n",
    "        tools=[flight_tool_schema, hotel_tool_schema],\n",
    "        tool_choice=\"auto\",\n",
    "        parallel_tool_calls=False\n",
    "    )\n",
    "    return response"
   ]
  },
  {
   "cell_type": "code",
   "execution_count": 152,
   "id": "cb84309a",
   "metadata": {},
   "outputs": [],
   "source": [
    "response = get_response(input_list)"
   ]
  },
  {
   "cell_type": "code",
   "execution_count": 173,
   "id": "f23d7a7b",
   "metadata": {},
   "outputs": [
    {
     "name": "stdout",
     "output_type": "stream",
     "text": [
      "{\"query\":\"Economy flights Abu Dhabi (AUH) to Tokyo (HND or NRT), depart 2025-10-05, return 2025-10-10, show best nonstop and 1-stop options with times, durations, baggage, and total roundtrip prices.\"}\n",
      "flight_search\n",
      "function_call\n",
      "call_nqecmjZRQ4CZOkzShtbtw2UU\n"
     ]
    }
   ],
   "source": [
    "print(response.output[-1].arguments)\n",
    "print(response.output[-1].name)\n",
    "print(response.output[-1].type)\n",
    "print(response.output[-1].call_id)"
   ]
  },
  {
   "cell_type": "code",
   "execution_count": null,
   "id": "eec4a6a1",
   "metadata": {},
   "outputs": [],
   "source": [
    "#response = get_response(input_list)\n",
    "\n",
    "if response.output[-1].type == \"message\":\n",
    "    input_list.append({\"role\": \"assistant\", \"content\": response.output[-1]})\n",
    "if response.output[-1].type == \"function_call\":\n",
    "    input_list += response.output"
   ]
  },
  {
   "cell_type": "code",
   "execution_count": 155,
   "id": "4e4b7b70",
   "metadata": {},
   "outputs": [
    {
     "data": {
      "text/plain": [
       "[{'role': 'system',\n",
       "  'content': \"\\n\\nYou are a helpful travel planner and your are to assist the user in planning their travel itinerary.\\n\\n1. Use the provided details to search for the best flight and hotel options using the provided tools.\\n2. Summarize the results in a neatly formatted itinerary.\\n3. Do not ask the user any questions, just provide the itinerary based on the details provided.\\n4. Make the itinerary clear, helpful and easy to read.\\n\\nExample flow:\\n- Receive the user's destination, travel dates, and preferences.\\n- Use your search tool to find the best flight options.\\n- Use your search tool to find the best hotel options.\\n- Summarize the results in a neatly formatted itinerary.\\n\\n---\\n**Your Adventure Awaits!** ✈️🏨🌍\\n- Destination: {destination}\\n- Origin: {origin}\\n- Departure Date: {departure_date}\\n- Return Date: {return_date}\\n- Class Type: {class_type}\\n\\n**Flight Options:**\\n{flight_options}\\n\\n**Hotel Options:**\\n{hotel_options}\\n\\nHave a fantastic trip!\\n\\nOnly return the final itinerary, do not include any other text.\\n\"},\n",
       " {'role': 'user',\n",
       "  'content': 'I want to travel to Tokyo from Abu Dhabi on 2025-10-05 and return on 2025-10-10. What are the best options for economy class'}]"
      ]
     },
     "execution_count": 155,
     "metadata": {},
     "output_type": "execute_result"
    }
   ],
   "source": [
    "input_list"
   ]
  },
  {
   "cell_type": "markdown",
   "id": "50fe86ea",
   "metadata": {},
   "source": [
    "## Step 6: Handle tools calls"
   ]
  },
  {
   "cell_type": "code",
   "execution_count": 117,
   "id": "6d5c6b86",
   "metadata": {},
   "outputs": [],
   "source": [
    "def call_function(name, args):\n",
    "    if name == \"flight_search\":\n",
    "        return flight_search(**args)\n",
    "    if name == \"hotel_search\":\n",
    "        return hotel_search(**args)"
   ]
  },
  {
   "cell_type": "code",
   "execution_count": null,
   "id": "ef085f67",
   "metadata": {},
   "outputs": [],
   "source": [
    "name = response.output[0].name\n",
    "args = json.loads(response.output[0].arguments)\n",
    "\n",
    "result = call_function(name, args)\n",
    "\n",
    "input_list.append({\n",
    "    \"type\": \"function_call_output\",\n",
    "    \"call_id\": response.output[0].call_id,\n",
    "    \"output\": str(result)\n",
    "})\n"
   ]
  },
  {
   "cell_type": "code",
   "execution_count": 134,
   "id": "18151ede",
   "metadata": {},
   "outputs": [
    {
     "data": {
      "text/plain": [
       "[{'role': 'system',\n",
       "  'content': \"\\n\\nYou are a helpful travel planner and your are to assist the user in planning their travel itinerary.\\n\\n1. Use the provided details to search for the best flight and hotel options using the provided tools.\\n2. Summarize the results in a neatly formatted itinerary.\\n3. Do not ask the user any questions, just provide the itinerary based on the details provided.\\n4. Make the itinerary clear, helpful and easy to read.\\n\\nExample flow:\\n- Receive the user's destination, travel dates, and preferences.\\n- Use your search tool to find the best flight options.\\n- Use your search tool to find the best hotel options.\\n- Summarize the results in a neatly formatted itinerary.\\n\\n---\\n**Your Adventure Awaits!** ✈️🏨🌍\\n- Destination: {destination}\\n- Origin: {origin}\\n- Departure Date: {departure_date}\\n- Return Date: {return_date}\\n- Class Type: {class_type}\\n\\n**Flight Options:**\\n{flight_options}\\n\\n**Hotel Options:**\\n{hotel_options}\\n\\nHave a fantastic trip!\\n\\nOnly return the final itinerary, do not include any other text.\\n\"},\n",
       " {'role': 'user',\n",
       "  'content': 'I want to travel to Tokyo from Abu Dhabi on 2025-10-05 and return on 2025-10-10. What are the best options for economy class'},\n",
       " ResponseFunctionToolCall(arguments='{\"query\":\"Abu Dhabi to Tokyo 2025-10-05\"}', call_id='call_UwNcF6dcmEvrYW06LuHOpaNT', name='flight_search', type='function_call', id='fc_05fd0495cd5ba6ae0068de4db9d9848197ae57fcdaf6532f5a', status='completed'),\n",
       " {'type': 'function_call_output',\n",
       "  'call_id': 'call_UwNcF6dcmEvrYW06LuHOpaNT',\n",
       "  'output': 'Got it — Abu Dhabi to Tokyo on Sunday, October 5, 2025. A couple quick details so I can pull the best live options and prices:\\n\\n- One-way or round-trip? If round-trip, what return date?\\n- How many travelers and cabin (economy/premium/business)?\\n- Any airport preferences? Departing AUH only? Arriving HND vs NRT?\\n- Nonstop only (Etihad operates a direct AUH–Tokyo service) or are 1-stop options OK? ([skyscanner.com](https://www.skyscanner.com/flights/flights-from-city-to-region/auha/44292740/cheap-flights-from-abu-dhabi-to-tokyo?utm_source=openai))\\n\\nIf it helps: initial checks show there are both nonstop and 1‑stop choices that day, and I’m seeing sample round-trip options starting around the mid-$500s with connections; I’ll fetch exact flights and fares for your specifics from Skyscanner/Expedia as soon as you confirm. ([skyscanner.com](https://www.skyscanner.com/flights/flights-from-city-to-region/auh/44292740/cheap-flights-from-zayed-international-to-tokyo?utm_source=openai))'}]"
      ]
     },
     "execution_count": 134,
     "metadata": {},
     "output_type": "execute_result"
    }
   ],
   "source": [
    "input_list"
   ]
  },
  {
   "cell_type": "markdown",
   "id": "7fcdcfec",
   "metadata": {},
   "source": [
    "## Step 7: The App Logic"
   ]
  },
  {
   "cell_type": "code",
   "execution_count": null,
   "id": "26c7205b",
   "metadata": {},
   "outputs": [],
   "source": [
    "def trip_planner(destination, origin, departure_date, return_date, class_type):\n",
    "    user_message = prompt.format(\n",
    "        destination=destination, \n",
    "        origin=origin, \n",
    "        departure_date=departure_date, \n",
    "        return_date=return_date, \n",
    "        class_type=class_type)\n",
    "\n",
    "    input_list = [{\"role\": \"system\", \"content\": system_message},\n",
    "              {\"role\": \"user\", \"content\": user_message}]\n",
    "\n",
    "    response = get_response(input_list)\n",
    "\n",
    "    if response.output[0].type == \"function_call\":\n",
    "        while response.output[0].type == \"function_call\":\n",
    "            input_list += response.output\n",
    "            name = response.output[0].name\n",
    "            args = json.loads(response.output[0].arguments)\n",
    "            \n",
    "            result = call_function(name, args)\n",
    "\n",
    "            input_list.append({\n",
    "                \"type\": \"function_call_output\",\n",
    "                \"call_id\": response.output[0].call_id,\n",
    "                \"output\": str(result)\n",
    "            })\n",
    "\n",
    "            response = get_response(input_list)\n",
    "\n",
    "    return response.output[-1].content[0].text"
   ]
  },
  {
   "cell_type": "code",
   "execution_count": 142,
   "id": "1fa857a4",
   "metadata": {},
   "outputs": [
    {
     "ename": "AttributeError",
     "evalue": "'ResponseFunctionToolCall' object has no attribute 'content'",
     "output_type": "error",
     "traceback": [
      "\u001b[31m---------------------------------------------------------------------------\u001b[39m",
      "\u001b[31mAttributeError\u001b[39m                            Traceback (most recent call last)",
      "\u001b[36mCell\u001b[39m\u001b[36m \u001b[39m\u001b[32mIn[142]\u001b[39m\u001b[32m, line 1\u001b[39m\n\u001b[32m----> \u001b[39m\u001b[32m1\u001b[39m \u001b[43mtrip_planner\u001b[49m\u001b[43m(\u001b[49m\u001b[33;43m\"\u001b[39;49m\u001b[33;43mTokyo\u001b[39;49m\u001b[33;43m\"\u001b[39;49m\u001b[43m,\u001b[49m\u001b[43m \u001b[49m\u001b[33;43m\"\u001b[39;49m\u001b[33;43mAbu Dhabi\u001b[39;49m\u001b[33;43m\"\u001b[39;49m\u001b[43m,\u001b[49m\u001b[43m \u001b[49m\u001b[33;43m\"\u001b[39;49m\u001b[33;43m2025-10-05\u001b[39;49m\u001b[33;43m\"\u001b[39;49m\u001b[43m,\u001b[49m\u001b[43m \u001b[49m\u001b[33;43m\"\u001b[39;49m\u001b[33;43m2025-10-10\u001b[39;49m\u001b[33;43m\"\u001b[39;49m\u001b[43m,\u001b[49m\u001b[43m \u001b[49m\u001b[33;43m\"\u001b[39;49m\u001b[33;43meconomy\u001b[39;49m\u001b[33;43m\"\u001b[39;49m\u001b[43m)\u001b[49m\n",
      "\u001b[36mCell\u001b[39m\u001b[36m \u001b[39m\u001b[32mIn[141]\u001b[39m\u001b[32m, line 28\u001b[39m, in \u001b[36mtrip_planner\u001b[39m\u001b[34m(destination, origin, departure_date, return_date, class_type)\u001b[39m\n\u001b[32m     20\u001b[39m         input_list.append({\n\u001b[32m     21\u001b[39m             \u001b[33m\"\u001b[39m\u001b[33mtype\u001b[39m\u001b[33m\"\u001b[39m: \u001b[33m\"\u001b[39m\u001b[33mfunction_call_output\u001b[39m\u001b[33m\"\u001b[39m,\n\u001b[32m     22\u001b[39m             \u001b[33m\"\u001b[39m\u001b[33mcall_id\u001b[39m\u001b[33m\"\u001b[39m: response.output[\u001b[32m0\u001b[39m].call_id,\n\u001b[32m     23\u001b[39m             \u001b[33m\"\u001b[39m\u001b[33moutput\u001b[39m\u001b[33m\"\u001b[39m: \u001b[38;5;28mstr\u001b[39m(result)\n\u001b[32m     24\u001b[39m         })\n\u001b[32m     26\u001b[39m         response = get_response(input_list)\n\u001b[32m---> \u001b[39m\u001b[32m28\u001b[39m \u001b[38;5;28;01mreturn\u001b[39;00m \u001b[43mresponse\u001b[49m\u001b[43m.\u001b[49m\u001b[43moutput\u001b[49m\u001b[43m[\u001b[49m\u001b[43m-\u001b[49m\u001b[32;43m1\u001b[39;49m\u001b[43m]\u001b[49m\u001b[43m.\u001b[49m\u001b[43mcontent\u001b[49m[\u001b[32m0\u001b[39m].text\n",
      "\u001b[36mFile \u001b[39m\u001b[32md:\\Projects\\agentic-ai\\.venv\\Lib\\site-packages\\pydantic\\main.py:991\u001b[39m, in \u001b[36mBaseModel.__getattr__\u001b[39m\u001b[34m(self, item)\u001b[39m\n\u001b[32m    988\u001b[39m     \u001b[38;5;28;01mreturn\u001b[39;00m \u001b[38;5;28msuper\u001b[39m().\u001b[34m__getattribute__\u001b[39m(item)  \u001b[38;5;66;03m# Raises AttributeError if appropriate\u001b[39;00m\n\u001b[32m    989\u001b[39m \u001b[38;5;28;01melse\u001b[39;00m:\n\u001b[32m    990\u001b[39m     \u001b[38;5;66;03m# this is the current error\u001b[39;00m\n\u001b[32m--> \u001b[39m\u001b[32m991\u001b[39m     \u001b[38;5;28;01mraise\u001b[39;00m \u001b[38;5;167;01mAttributeError\u001b[39;00m(\u001b[33mf\u001b[39m\u001b[33m'\u001b[39m\u001b[38;5;132;01m{\u001b[39;00m\u001b[38;5;28mtype\u001b[39m(\u001b[38;5;28mself\u001b[39m).\u001b[34m__name__\u001b[39m\u001b[38;5;132;01m!r}\u001b[39;00m\u001b[33m object has no attribute \u001b[39m\u001b[38;5;132;01m{\u001b[39;00mitem\u001b[38;5;132;01m!r}\u001b[39;00m\u001b[33m'\u001b[39m)\n",
      "\u001b[31mAttributeError\u001b[39m: 'ResponseFunctionToolCall' object has no attribute 'content'"
     ]
    }
   ],
   "source": [
    "trip_planner(\"Tokyo\", \"Abu Dhabi\", \"2025-10-05\", \"2025-10-10\", \"economy\")"
   ]
  },
  {
   "cell_type": "markdown",
   "id": "25ca8ee2",
   "metadata": {},
   "source": [
    "## Step 8: Gradio UI"
   ]
  },
  {
   "cell_type": "code",
   "execution_count": null,
   "id": "f840d5c3",
   "metadata": {},
   "outputs": [],
   "source": [
    "def chat(message, history):\n",
    "\n",
    "    clean_history = [{\"role\": m[\"role\"], \"content\": m[\"content\"]} for m in history]\n",
    "\n",
    "    messages = [{\"role\": \"system\", \"content\": system_message}] + clean_history + [{\"role\": \"user\", \"content\": message}]\n",
    "\n",
    "    response = openai_client.responses.create(\n",
    "        model=\"gpt-4o-mini\",\n",
    "        input=messages,\n",
    "        tools=[flight_tool_schema, hotel_tool_schema],\n",
    "        tool_choice=\"auto\",\n",
    "        parallel_tool_calls=False\n",
    "    )\n",
    "\n",
    "    if response.output[0].type == \"function_call\":\n",
    "        while response.output[0].type == \"function_call\":\n",
    "            messages += response.output\n",
    "            \n",
    "            name = response.output[0].name\n",
    "            args = json.loads(response.output[0].arguments)\n",
    "\n",
    "            result = call_function(name, args)\n",
    "\n",
    "            messages.append({\n",
    "                \"type\": \"function_call_output\",   # or role=\"tool\" if you want proper chat-style\n",
    "                \"call_id\": response.output[0].call_id,\n",
    "                \"output\": str(result)\n",
    "            })\n",
    "\n",
    "            response = openai_client.responses.create(\n",
    "                model=\"gpt-4o-mini\",\n",
    "                input=messages,   # pass full conversation\n",
    "                tools=[flight_tool_schema, hotel_tool_schema],\n",
    "                tool_choice=\"auto\",\n",
    "                parallel_tool_calls=False\n",
    "            )\n",
    "\n",
    "    return response.output_text\n",
    "\n",
    "view = gr.ChatInterface(fn=chat, type=\"messages\").launch()\n"
   ]
  }
 ],
 "metadata": {
  "kernelspec": {
   "display_name": "agentic-ai-course",
   "language": "python",
   "name": "python3"
  },
  "language_info": {
   "codemirror_mode": {
    "name": "ipython",
    "version": 3
   },
   "file_extension": ".py",
   "mimetype": "text/x-python",
   "name": "python",
   "nbconvert_exporter": "python",
   "pygments_lexer": "ipython3",
   "version": "3.13.3"
  }
 },
 "nbformat": 4,
 "nbformat_minor": 5
}
