{
 "cells": [
  {
   "cell_type": "markdown",
   "id": "8696980e",
   "metadata": {},
   "source": [
    "# Flight Agent: Your Travel Planner\n",
    "\n",
    "Time for an exciting use case. Now is the time to use all the knowledge we have gathered so far to build a complete AI Agent ourselves.\n",
    "\n",
    "## Plan of Attack:\n",
    "\n",
    "1. Import libraries\n",
    "2. Define our tools\n",
    "3. Define our tools schema\n",
    "4. Call the OpenAI Responses API\n",
    "5. Handle tool calls\n",
    "6. Chat logic\n",
    "7. Gradio Interface"
   ]
  },
  {
   "cell_type": "markdown",
   "id": "d6a81668",
   "metadata": {},
   "source": [
    "## Step 1: Import libraries"
   ]
  },
  {
   "cell_type": "code",
   "execution_count": null,
   "id": "6933b082",
   "metadata": {},
   "outputs": [],
   "source": [
    "import os\n",
    "from dotenv import load_dotenv\n",
    "import json\n",
    "from openai import OpenAI\n",
    "from utils import function_to_tool\n",
    "from IPython.display import display, Markdown\n",
    "import gradio as gr\n",
    "\n",
    "load_dotenv()\n",
    "\n",
    "OPENAI_API_KEY = os.getenv(\"OPENAI_API_KEY\")\n",
    "if not OPENAI_API_KEY:\n",
    "    raise ValueError(\"OPENAI_API_KEY is not set in the environment variables.\")\n",
    "\n",
    "openai_client = OpenAI()"
   ]
  },
  {
   "cell_type": "markdown",
   "id": "3d619380",
   "metadata": {},
   "source": [
    "## Step 2: Define our tools"
   ]
  },
  {
   "cell_type": "code",
   "execution_count": null,
   "id": "1b353661",
   "metadata": {},
   "outputs": [],
   "source": [
    "query = \"I want to travel alone from abu dhabi to tokyo tomorrow and will be back in 2 days. what are the best flights available for economy class?\"\n",
    "\n",
    "# Flight search tool\n",
    "response = openai_client.responses.create(\n",
    "    model=\"gpt-5\",\n",
    "    input=query,\n",
    "    tools=[{\n",
    "        \"type\": \"web_search\",\n",
    "        \"filters\":{\n",
    "            \"allowed_domains\": [\"skyscanner.com\", \"expedia.com\", \"booking.com\"]    \n",
    "        }\n",
    "    }]\n",
    ")\n",
    "\n",
    "print(\"Search Results: \\n\", response.output[-1].content[0].text)"
   ]
  },
  {
   "cell_type": "code",
   "execution_count": null,
   "id": "a6fafc54",
   "metadata": {},
   "outputs": [],
   "source": [
    "def flight_search(query: str) -> str:\n",
    "    \"\"\"\n",
    "    Search for flights based on the provided query and optional domains.\n",
    "    \n",
    "    Args:\n",
    "        query (str): The search query for flights.\n",
    "        include_domains (list, optional): List of domains to include in the search.\n",
    "        \n",
    "    Returns:\n",
    "        dict: Search results containing flight information.\n",
    "    \"\"\"\n",
    "    response = openai_client.responses.create(\n",
    "        model=\"gpt-5\",\n",
    "        input=query,\n",
    "        tools=[{\n",
    "            \"type\": \"web_search\",\n",
    "            \"filters\":{\n",
    "                \"allowed_domains\": [\"skyscanner.com\", \"expedia.com\", \"booking.com\"]    \n",
    "            }\n",
    "        }]\n",
    "    )\n",
    "    \n",
    "    return response.output[-1].content[0].text"
   ]
  },
  {
   "cell_type": "code",
   "execution_count": null,
   "id": "4cd7550a",
   "metadata": {},
   "outputs": [],
   "source": [
    "query = \"What are the best hotels in tokyo and osaka for tomorrow?\"\n",
    "\n",
    "# Hotel search tool\n",
    "response = openai_client.responses.create(\n",
    "    model=\"gpt-5\",\n",
    "    input=query,\n",
    "    tools=[{\n",
    "        \"type\": \"web_search\",\n",
    "        \"filters\":{\n",
    "            \"allowed_domains\": [\"airbnb.com\", \"booking.com\"]    \n",
    "        }\n",
    "    }]\n",
    ")\n",
    "\n",
    "print(\"Search Results: \\n\", response.output[-1].content[0].text)"
   ]
  },
  {
   "cell_type": "code",
   "execution_count": null,
   "id": "c52c3276",
   "metadata": {},
   "outputs": [],
   "source": [
    "def hotel_search(query: str) -> dict:\n",
    "    \"\"\"\n",
    "    Search for hotels based on the provided query and optional domains.\n",
    "    \n",
    "    Args:\n",
    "        query (str): The search query for hotels.\n",
    "        include_domains (list, optional): List of domains to include in the search.\n",
    "        \n",
    "    Returns:\n",
    "        dict: Search results containing hotel information.\n",
    "    \"\"\"\n",
    "    response = openai_client.responses.create(\n",
    "        model=\"gpt-5\",\n",
    "        input=query,\n",
    "        tools=[{\n",
    "            \"type\": \"web_search\",\n",
    "            \"filters\":{\n",
    "                \"allowed_domains\": [\"airbnb.com\", \"booking.com\"]    \n",
    "            }\n",
    "        }]\n",
    "    )\n",
    "    return response.output[-1].content[0].text"
   ]
  },
  {
   "cell_type": "markdown",
   "id": "456d3f02",
   "metadata": {},
   "source": [
    "## Step 3: Define our tools schema"
   ]
  },
  {
   "cell_type": "code",
   "execution_count": null,
   "id": "0531cbaf",
   "metadata": {},
   "outputs": [],
   "source": [
    "flight_tool_schema = function_to_tool(flight_search)\n",
    "hotel_tool_schema = function_to_tool(hotel_search)"
   ]
  },
  {
   "cell_type": "markdown",
   "id": "5d918dd6",
   "metadata": {},
   "source": [
    "## Step 4: Prompt Template"
   ]
  },
  {
   "cell_type": "code",
   "execution_count": null,
   "id": "48e6c578",
   "metadata": {},
   "outputs": [],
   "source": [
    "class PromptTemplate:\n",
    "    def __init__(self, template: str, input_variables: list = [str]):\n",
    "        self.template = template\n",
    "        self.input_variables = input_variables\n",
    "\n",
    "    def format(self, **kwargs) -> str:\n",
    "        return self.template.format(**{k: kwargs[k] for k in self.input_variables})"
   ]
  },
  {
   "cell_type": "code",
   "execution_count": null,
   "id": "33513c72",
   "metadata": {},
   "outputs": [],
   "source": [
    "prompt = PromptTemplate(\n",
    "    template=\"I want to travel to {destination} from {origin} on {departure_date} and return on {return_date}. What are the best options for {class_type} class\",\n",
    "    input_variables=[\"destination\", \"origin\", \"departure_date\", \"return_date\", \"class_type\"]\n",
    ")"
   ]
  },
  {
   "cell_type": "code",
   "execution_count": null,
   "id": "b090111f",
   "metadata": {},
   "outputs": [],
   "source": [
    "user_message = prompt.format(\n",
    "    destination=\"Tokyo\", origin=\"Abu Dhabi\", departure_date=\"2025-10-05\", return_date=\"2025-10-10\", class_type=\"economy\")"
   ]
  },
  {
   "cell_type": "markdown",
   "id": "d68b134f",
   "metadata": {},
   "source": [
    "## Step 5: Call the OpenAI Responses API"
   ]
  },
  {
   "cell_type": "code",
   "execution_count": null,
   "id": "702abd0b",
   "metadata": {},
   "outputs": [],
   "source": [
    "system_message = \"\"\"\n",
    "\n",
    "You are a helpful travel planner and your are to assist the user in planning their travel itinerary.\n",
    "\n",
    "1. Use the provided details to search for the best flight and hotel options using the provided tools.\n",
    "2. Summarize the results in a neatly formatted itinerary.\n",
    "3. Do not ask the user any questions, just provide the itinerary based on the details provided.\n",
    "4. Make the itinerary clear, helpful and easy to read.\n",
    "\n",
    "Example flow:\n",
    "- Receive the user's destination, travel dates, and preferences.\n",
    "- Use your search tool to find the best flight options.\n",
    "- Use your search tool to find the best hotel options.\n",
    "- Summarize the results in a neatly formatted itinerary.\n",
    "\n",
    "---\n",
    "**Your Adventure Awaits!** ✈️🏨🌍\n",
    "- Destination: {destination}\n",
    "- Origin: {origin}\n",
    "- Departure Date: {departure_date}\n",
    "- Return Date: {return_date}\n",
    "- Class Type: {class_type}\n",
    "\n",
    "**Flight Options:**\n",
    "{flight_options}\n",
    "\n",
    "**Hotel Options:**\n",
    "{hotel_options}\n",
    "\n",
    "Have a fantastic trip!\n",
    "\n",
    "Only return the final itinerary, do not include any other text.\n",
    "\"\"\""
   ]
  },
  {
   "cell_type": "code",
   "execution_count": null,
   "id": "54ca3a6e",
   "metadata": {},
   "outputs": [],
   "source": [
    "input_list = [{\"role\": \"system\", \"content\": system_message},\n",
    "              {\"role\": \"user\", \"content\": user_message}]"
   ]
  },
  {
   "cell_type": "code",
   "execution_count": null,
   "id": "4e4ba4fb",
   "metadata": {},
   "outputs": [],
   "source": [
    "def get_response(input_list):\n",
    "    response = openai_client.responses.create(\n",
    "        model=\"gpt-5\",\n",
    "        input=input_list,\n",
    "        tools=[flight_tool_schema, hotel_tool_schema],\n",
    "        tool_choice=\"auto\",\n",
    "        parallel_tool_calls=False\n",
    "    )\n",
    "    return response"
   ]
  },
  {
   "cell_type": "code",
   "execution_count": null,
   "id": "cb84309a",
   "metadata": {},
   "outputs": [],
   "source": [
    "response = get_response(input_list)"
   ]
  },
  {
   "cell_type": "code",
   "execution_count": null,
   "id": "f23d7a7b",
   "metadata": {},
   "outputs": [],
   "source": [
    "print(response.output[-1].arguments)\n",
    "print(response.output[-1].name)\n",
    "print(response.output[-1].type)\n",
    "print(response.output[-1].call_id)"
   ]
  },
  {
   "cell_type": "code",
   "execution_count": null,
   "id": "eec4a6a1",
   "metadata": {},
   "outputs": [],
   "source": [
    "#response = get_response(input_list)\n",
    "\n",
    "if response.output[-1].type == \"message\":\n",
    "    input_list.append({\"role\": \"assistant\", \"content\": response.output[-1]})\n",
    "if response.output[-1].type == \"function_call\":\n",
    "    input_list += response.output"
   ]
  },
  {
   "cell_type": "code",
   "execution_count": null,
   "id": "4e4b7b70",
   "metadata": {},
   "outputs": [],
   "source": [
    "input_list"
   ]
  },
  {
   "cell_type": "markdown",
   "id": "50fe86ea",
   "metadata": {},
   "source": [
    "## Step 6: Handle tools calls"
   ]
  },
  {
   "cell_type": "code",
   "execution_count": null,
   "id": "6d5c6b86",
   "metadata": {},
   "outputs": [],
   "source": [
    "def call_function(name, args):\n",
    "    if name == \"flight_search\":\n",
    "        return flight_search(**args)\n",
    "    if name == \"hotel_search\":\n",
    "        return hotel_search(**args)"
   ]
  },
  {
   "cell_type": "code",
   "execution_count": null,
   "id": "ef085f67",
   "metadata": {},
   "outputs": [],
   "source": [
    "name = response.output[0].name\n",
    "args = json.loads(response.output[0].arguments)\n",
    "\n",
    "result = call_function(name, args)\n",
    "\n",
    "input_list.append({\n",
    "    \"type\": \"function_call_output\",\n",
    "    \"call_id\": response.output[0].call_id,\n",
    "    \"output\": str(result)\n",
    "})\n"
   ]
  },
  {
   "cell_type": "code",
   "execution_count": null,
   "id": "18151ede",
   "metadata": {},
   "outputs": [],
   "source": [
    "input_list"
   ]
  },
  {
   "cell_type": "markdown",
   "id": "7fcdcfec",
   "metadata": {},
   "source": [
    "## Step 7: The App Logic"
   ]
  },
  {
   "cell_type": "code",
   "execution_count": null,
   "id": "26c7205b",
   "metadata": {},
   "outputs": [],
   "source": [
    "def trip_planner(destination, origin, departure_date, return_date, class_type):\n",
    "    user_message = prompt.format(\n",
    "        destination=destination, \n",
    "        origin=origin, \n",
    "        departure_date=departure_date, \n",
    "        return_date=return_date, \n",
    "        class_type=class_type)\n",
    "\n",
    "    input_list = [{\"role\": \"system\", \"content\": system_message},\n",
    "              {\"role\": \"user\", \"content\": user_message}]\n",
    "\n",
    "    response = get_response(input_list)\n",
    "\n",
    "    if response.output[0].type == \"function_call\":\n",
    "        while response.output[0].type == \"function_call\":\n",
    "            input_list += response.output\n",
    "            name = response.output[0].name\n",
    "            args = json.loads(response.output[0].arguments)\n",
    "            \n",
    "            result = call_function(name, args)\n",
    "\n",
    "            input_list.append({\n",
    "                \"type\": \"function_call_output\",\n",
    "                \"call_id\": response.output[0].call_id,\n",
    "                \"output\": str(result)\n",
    "            })\n",
    "\n",
    "            response = get_response(input_list)\n",
    "\n",
    "    return response.output[-1].content[0].text"
   ]
  },
  {
   "cell_type": "code",
   "execution_count": null,
   "id": "1fa857a4",
   "metadata": {},
   "outputs": [],
   "source": [
    "trip_planner(\"Tokyo\", \"Abu Dhabi\", \"2025-10-05\", \"2025-10-10\", \"economy\")"
   ]
  },
  {
   "cell_type": "markdown",
   "id": "25ca8ee2",
   "metadata": {},
   "source": [
    "## Step 8: Gradio UI"
   ]
  },
  {
   "cell_type": "code",
   "execution_count": null,
   "id": "f840d5c3",
   "metadata": {},
   "outputs": [],
   "source": [
    "with gr.Blocks() as demo:\n",
    "    gr.Markdown(\"# Travel Itinerary Planner ✈️🏨🌍\")\n",
    "    gr.Markdown(\"Plan your perfect trip with ease! Enter your travel details below and let our AI-powered planner create a personalized itinerary for you.\")\n",
    "    \n",
    "    with gr.Row():\n",
    "        destination = gr.Textbox(label=\"Destination\", placeholder=\"Enter your travel destination (e.g., Tokyo)\")\n",
    "        origin = gr.Textbox(label=\"Origin\", placeholder=\"Enter your departure city (e.g., Abu Dhabi)\")\n",
    "\n",
    "    with gr.Row():\n",
    "        departure_date = gr.Textbox(label=\"Departure Date\", placeholder=\"Enter your departure date (e.g., 2025-10-05)\")\n",
    "        return_date = gr.Textbox(label=\"Return Date\", placeholder=\"Enter your return date (e.g., 2025-10-10)\")\n",
    "\n",
    "    with gr.Row():\n",
    "        class_type = gr.Dropdown(choices=[\"economy\", \"business\", \"first\"], label=\"Class Type\", value=\"economy\")\n",
    "        \n",
    "    plan_button = gr.Button(\"Plan My Trip\")\n",
    "        \n",
    "    output = gr.Markdown(label=\"Your Itinerary will appear here...\")\n",
    "    \n",
    "    def plan_trip(destination, origin, departure_date, return_date, class_type):\n",
    "        itinerary = trip_planner(destination, origin, departure_date, return_date, class_type)\n",
    "        return itinerary\n",
    "    \n",
    "    plan_button.click(fn=plan_trip, inputs=[destination, origin, departure_date, return_date, class_type], outputs=output)\n",
    "\n",
    "demo.launch()"
   ]
  }
 ],
 "metadata": {
  "kernelspec": {
   "display_name": "agentic-ai-course",
   "language": "python",
   "name": "python3"
  },
  "language_info": {
   "codemirror_mode": {
    "name": "ipython",
    "version": 3
   },
   "file_extension": ".py",
   "mimetype": "text/x-python",
   "name": "python",
   "nbconvert_exporter": "python",
   "pygments_lexer": "ipython3",
   "version": "3.13.3"
  }
 },
 "nbformat": 4,
 "nbformat_minor": 5
}
