{
 "cells": [
  {
   "cell_type": "code",
   "execution_count": 1,
   "id": "109b21a5",
   "metadata": {},
   "outputs": [],
   "source": [
    "import os\n",
    "from openai import OpenAI\n",
    "from dotenv import load_dotenv\n",
    "from IPython.display import display, Markdown\n",
    "\n",
    "load_dotenv()\n",
    "\n",
    "OPENAI_API_KEY = os.getenv(\"OPENAI_API_KEY\")\n",
    "GEMINI_API_KEY = os.getenv(\"GEMINI_API_KEY\")\n",
    "ANTHROPIC_API_KEY = os.getenv(\"ANTHROPIC_API_KEY\")\n",
    "\n",
    "# check if API keys are set\n",
    "if not OPENAI_API_KEY:\n",
    "    raise ValueError(\"Missing OpenAI API key\")\n",
    "if not GEMINI_API_KEY:\n",
    "    raise ValueError(\"Missing Gemini API key\")\n",
    "if not ANTHROPIC_API_KEY:\n",
    "    raise ValueError(\"Missing Anthropic API key\")"
   ]
  },
  {
   "cell_type": "code",
   "execution_count": 4,
   "id": "cd87d5d7",
   "metadata": {},
   "outputs": [],
   "source": [
    "openai_client = OpenAI()\n",
    "anthropic_client = OpenAI(api_key=ANTHROPIC_API_KEY, base_url=\"https://api.anthropic.com/v1\")\n",
    "gemini_client = OpenAI(api_key=GEMINI_API_KEY, base_url=\"https://generativelanguage.googleapis.com/v1beta/openai/\")"
   ]
  },
  {
   "cell_type": "code",
   "execution_count": 5,
   "id": "d49adf63",
   "metadata": {},
   "outputs": [],
   "source": [
    "message = \"I want you to generate a customer support ticket for a 3rd party re-seller. \"\n",
    "message += \"The ticket should be a single sentence describing a common issue a customer might face with their product or service. \"\n",
    "message += \"Do not give any subjects, only the body of the ticket.\"\n",
    "\n",
    "messages = [{\"role\": \"user\", \"content\": message}]"
   ]
  },
  {
   "cell_type": "code",
   "execution_count": 7,
   "id": "3f9459e6",
   "metadata": {},
   "outputs": [
    {
     "data": {
      "text/markdown": [
       "### Generated Ticket:\n",
       "The product I purchased is not functioning as advertised and I haven't received any response to my previous inquiries."
      ],
      "text/plain": [
       "<IPython.core.display.Markdown object>"
      ]
     },
     "metadata": {},
     "output_type": "display_data"
    }
   ],
   "source": [
    "openai_response = openai_client.chat.completions.create(\n",
    "    model=\"gpt-4.1-nano\",\n",
    "    messages=messages\n",
    ")\n",
    "\n",
    "ticket = openai_response.choices[0].message.content\n",
    "# print(f\"### Generated Ticket:\\n{ticket}\")\n",
    "display(Markdown(f\"### Generated Ticket:\\n{ticket}\"))"
   ]
  },
  {
   "cell_type": "code",
   "execution_count": 8,
   "id": "2c00c88d",
   "metadata": {},
   "outputs": [
    {
     "data": {
      "text/markdown": [
       "**Evaluator Feedback:**\n",
       "\n",
       "Assessment of Support Ticket:\n",
       "\n",
       "Current Ticket Quality: Low\n",
       "\n",
       "Specific Issues:\n",
       "1. Lack of Specific Details\n",
       "- No specific product identification\n",
       "- No clear description of the functional problem\n",
       "- No indication of previous communication attempts\n",
       "\n",
       "Suggested Improvements:\n",
       "1. Request Additional Information:\n",
       "- Product model/serial number\n",
       "- Purchase date\n",
       "- Specific malfunction description\n",
       "- Details of previous communication attempts\n",
       "\n",
       "2. Recommended Response Template:\n",
       "\"Thank you for contacting our support team. To best assist you, could you please provide:\n",
       "- Complete product name and model number\n",
       "- Date of purchase\n",
       "- Detailed description of the issue (What exactly is not working?)\n",
       "- Copies/references of previous communication\n",
       "- Proof of purchase if available\n",
       "\n",
       "Our team is committed to resolving your concern promptly.\"\n",
       "\n",
       "Action Items:\n",
       "- Assign ticket to appropriate product support specialist\n",
       "- Set clear timeline for initial response (within 24 hours)\n",
       "- Establish follow-up protocol\n",
       "\n",
       "Quality Score: 2/10\n",
       "Potential Score After Improvements: 8/10\n",
       "\n",
       "Recommendations emphasize gathering precise information to diagnose and resolve the customer's problem efficiently and professionally."
      ],
      "text/plain": [
       "<IPython.core.display.Markdown object>"
      ]
     },
     "metadata": {},
     "output_type": "display_data"
    }
   ],
   "source": [
    "# --- Evaluator Agent: Assess ticket quality and suggest improvements ---\n",
    "evaluator_prompt = (\n",
    "    \"You are an expert customer support evaluator. \"\n",
    "    \"Assess the following support ticket for quality and completeness. \"\n",
    "    \"Suggest specific improvements to make it clearer and more actionable. \"\n",
    "    \"Ticket:\\n\"\n",
    "    f\"{ticket}\\n\"\n",
    "    \"Respond with your assessment and suggested improvements.\"\n",
    ")\n",
    "\n",
    "evaluator_messages = [{\"role\": \"user\", \"content\": evaluator_prompt}]\n",
    "\n",
    "evaluator_response = anthropic_client.chat.completions.create(\n",
    "    model=\"claude-3-5-haiku-latest\",\n",
    "    messages=evaluator_messages\n",
    ")\n",
    "\n",
    "evaluation_feedback = evaluator_response.choices[0].message.content\n",
    "display(Markdown(f\"**Evaluator Feedback:**\\n\\n{evaluation_feedback}\"))"
   ]
  },
  {
   "cell_type": "code",
   "execution_count": 9,
   "id": "1811c1bb",
   "metadata": {},
   "outputs": [
    {
     "data": {
      "text/markdown": [
       "**Original Ticket:**\n",
       "\n",
       "The product I purchased is not functioning as advertised and I haven't received any response to my previous inquiries.\n",
       "\n",
       "**Optimized Ticket:**\n",
       "\n",
       "**Subject: Product Malfunction & Unresolved Inquiry - [Product Name/Model] - Order #[Order Number]**\n",
       "\n",
       "Dear Support Team,\n",
       "\n",
       "I am writing to report a significant issue with a product I purchased and to request urgent assistance, as my previous inquiries regarding this matter have not received a response.\n",
       "\n",
       "**Product Details:**\n",
       "*   **Product Name/Model:** [e.g., \"ApexPro Wireless Headset, Model HP-500\"]\n",
       "*   **Serial Number (if applicable):** [e.g., \"HP500-2023-A1B2C3D4E5\"]\n",
       "*   **Purchase Date:** [e.g., \"November 15, 2023\"]\n",
       "*   **Order Number:** [e.g., \"WEB-987654321\"]\n",
       "*   **Place of Purchase:** [e.g., \"Your Company's Official Website\" or \"Amazon.com\"]\n",
       "*   **Proof of Purchase:** [e.g., \"Attached is a copy of my order confirmation email.\"]\n",
       "\n",
       "**Description of Malfunction:**\n",
       "The [Product Name] is not functioning as advertised. Specifically:\n",
       "*   **Core Issue:** The advertised noise-cancellation feature is completely non-functional. I can hear ambient sounds clearly, which defeats the primary purpose for which I purchased these headphones.\n",
       "*   **Secondary Issue:** The battery life is significantly shorter than the advertised 20 hours, lasting only approximately 5-6 hours on a full charge.\n",
       "*   **Expected vs. Actual:** The product was advertised as providing superior noise isolation and extended battery life for professional use, neither of which is being delivered.\n",
       "\n",
       "**Previous Communication Attempts:**\n",
       "I previously contacted your support team regarding this issue on the following dates:\n",
       "*   **Date:** [e.g., \"December 1, 2023\"]\n",
       "    *   **Method:** Email\n",
       "    *   **Recipient:** [e.g., \"support@yourcompany.com\"]\n",
       "    *   **Subject Line:** [e.g., \"Issue with HP-500 Noise Cancellation - Order #987654321\"]\n",
       "    *   **Reference/Attachment:** [e.g., \"Sent from my email address: customer@example.com, no ticket ID received.\"]\n",
       "*   **Date:** [e.g., \"December 5, 2023\"]\n",
       "    *   **Method:** Live Chat\n",
       "    *   **Reference/Attachment:** [e.g., \"Chat transcript ID: CHAT-123456789. Agent name (if known): 'Sarah K.'\"]\n",
       "\n",
       "I have not received any response or follow-up from these previous attempts. I would appreciate prompt assistance in resolving this issue. Please let me know if any further information or troubleshooting is required.\n",
       "\n",
       "Thank you for your time.\n",
       "\n",
       "Sincerely,\n",
       "\n",
       "[Customer Name]\n",
       "[Customer Email Address]\n",
       "[Customer Phone Number (Optional)]"
      ],
      "text/plain": [
       "<IPython.core.display.Markdown object>"
      ]
     },
     "metadata": {},
     "output_type": "display_data"
    }
   ],
   "source": [
    "# --- Optimizer Agent: Revise ticket based on evaluator feedback ---\n",
    "optimizer_prompt = (\n",
    "    \"You are an optimizer agent. \"\n",
    "    \"Revise the following customer support ticket based on the evaluator's feedback, \"\n",
    "    \"aiming for clarity and actionable details.\\n\\n\"\n",
    "    f\"Original Ticket:\\n{ticket}\\n\\n\"\n",
    "    f\"Evaluator Feedback:\\n{evaluation_feedback}\\n\\n\"\n",
    "    \"Provide the improved ticket only.\"\n",
    ")\n",
    "\n",
    "optimizer_messages = [{\"role\": \"user\", \"content\": optimizer_prompt}]\n",
    "\n",
    "optimizer_response = gemini_client.chat.completions.create(\n",
    "    model=\"gemini-2.5-flash\",\n",
    "    messages=optimizer_messages\n",
    ")\n",
    "\n",
    "optimized_ticket = optimizer_response.choices[0].message.content\n",
    "display(Markdown(f\"**Original Ticket:**\\n\\n{ticket}\\n\\n**Optimized Ticket:**\\n\\n{optimized_ticket}\"))"
   ]
  }
 ],
 "metadata": {
  "kernelspec": {
   "display_name": "agentic-ai (3.13.5)",
   "language": "python",
   "name": "python3"
  },
  "language_info": {
   "codemirror_mode": {
    "name": "ipython",
    "version": 3
   },
   "file_extension": ".py",
   "mimetype": "text/x-python",
   "name": "python",
   "nbconvert_exporter": "python",
   "pygments_lexer": "ipython3",
   "version": "3.13.5"
  }
 },
 "nbformat": 4,
 "nbformat_minor": 5
}
