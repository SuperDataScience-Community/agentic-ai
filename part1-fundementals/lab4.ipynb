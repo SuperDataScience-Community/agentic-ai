{
 "cells": [
  {
   "cell_type": "markdown",
   "id": "8696980e",
   "metadata": {},
   "source": [
    "# Atlas: Your Travel Planner\n",
    "\n",
    "Time for an exciting use case. Now is the time to use all the knowledge we have gathered so far to build a complete AI Agent ourselves.\n",
    "\n",
    "## Plan of Attack:\n",
    "\n",
    "1. Import libraries\n",
    "2. Define our tools\n",
    "3. Define our tools schema\n",
    "4. Define a prompt template\n",
    "5. Call the OpenAI responses\n",
    "6. Handle tool calls\n",
    "7. The app logic\n",
    "8. Gradio Interface\n",
    "9. Deployment"
   ]
  },
  {
   "cell_type": "markdown",
   "id": "d6a81668",
   "metadata": {},
   "source": [
    "## Step 1: Import libraries"
   ]
  },
  {
   "cell_type": "code",
   "execution_count": null,
   "id": "6933b082",
   "metadata": {},
   "outputs": [],
   "source": [
    "import os\n",
    "from tavily import TavilyClient\n",
    "from dotenv import load_dotenv\n",
    "import json\n",
    "from openai import OpenAI\n",
    "from utils import function_to_tool\n",
    "from IPython.display import display, Markdown\n",
    "import gradio as gr\n",
    "\n",
    "load_dotenv()\n",
    "\n",
    "TAVILY_API_KEY = os.getenv(\"TAVILY_API_KEY\")\n",
    "if not TAVILY_API_KEY:\n",
    "    raise ValueError(\"TAVILY_API_KEY is not set in the environment variables.\")\n",
    "\n",
    "OPENAI_API_KEY = os.getenv(\"OPENAI_API_KEY\")\n",
    "if not OPENAI_API_KEY:\n",
    "    raise ValueError(\"OPENAI_API_KEY is not set in the environment variables.\")\n",
    "\n",
    "tavily_client = TavilyClient()\n",
    "openai_client = OpenAI()"
   ]
  },
  {
   "cell_type": "markdown",
   "id": "eb4f6b09",
   "metadata": {},
   "source": [
    "You can setup your API key here: **[Tavily API Key](https://app.tavily.com/home)**"
   ]
  },
  {
   "cell_type": "markdown",
   "id": "3d619380",
   "metadata": {},
   "source": [
    "## Step 2: Define our tools\n",
    "\n",
    "**The tools to define:**\n",
    "\n",
    "1. Flight Search Tool\n",
    "2. Hotel Search Tool"
   ]
  },
  {
   "cell_type": "code",
   "execution_count": null,
   "id": "a6fafc54",
   "metadata": {},
   "outputs": [],
   "source": [
    "query = \"I want to travel to tokyo tomorrow what are the best flights?\"\n",
    "\n",
    "response = tavily_client.search(\n",
    "    query=query,\n",
    "    include_domains=[\"emirates.com\",\"etihad.ae\",\"skyscanner.com\"]\n",
    ")\n",
    "\n",
    "print(json.dumps(response, indent=2))"
   ]
  },
  {
   "cell_type": "code",
   "execution_count": null,
   "id": "4cd7550a",
   "metadata": {},
   "outputs": [],
   "source": [
    "def flight_search(query: str) -> str:\n",
    "    \"\"\"\n",
    "    Searches for flights based on the provided query\n",
    "\n",
    "    Args:\n",
    "        query (str): The search query for flights\n",
    "\n",
    "    Returns:\n",
    "        str: A formatted string containing the search results\n",
    "    \n",
    "    \"\"\"\n",
    "\n",
    "    response = tavily_client.search(\n",
    "    query=query,\n",
    "    include_domains=[\"emirates.com\",\"etihad.ae\",\"skyscanner.com\"]\n",
    "    )\n",
    "\n",
    "    results = response.get(\"results\", [])\n",
    "\n",
    "    # extract items\n",
    "    contents = [item.get(\"content\", \"\") for item in results]\n",
    "\n",
    "    # Format as a numbered list\n",
    "    formatted_contents = \"\\n\".join(f\"{i + 1}. {content}\" for i, content in enumerate(contents) if content)\n",
    "\n",
    "    return formatted_contents"
   ]
  },
  {
   "cell_type": "code",
   "execution_count": null,
   "id": "561ac014",
   "metadata": {},
   "outputs": [],
   "source": [
    "print(flight_search(query))"
   ]
  },
  {
   "cell_type": "code",
   "execution_count": null,
   "id": "0003decb",
   "metadata": {},
   "outputs": [],
   "source": [
    "def hotel_search(query: str) -> str:\n",
    "    \"\"\"\n",
    "    Searches for hotels based on the provided query\n",
    "\n",
    "    Args:\n",
    "        query (str): The search query for hotels\n",
    "\n",
    "    Returns:\n",
    "        str: A formatted string containing the search results\n",
    "    \n",
    "    \"\"\"\n",
    "\n",
    "    response = tavily_client.search(\n",
    "    query=query,\n",
    "    include_domains=[\"booking.com\",\"airbnb.com\"]\n",
    "    )\n",
    "\n",
    "    results = response.get(\"results\", [])\n",
    "\n",
    "    # extract items\n",
    "    contents = [item.get(\"content\", \"\") for item in results]\n",
    "\n",
    "    # Format as a numbered list\n",
    "    formatted_contents = \"\\n\".join(f\"{i + 1}. {content}\" for i, content in enumerate(contents) if content)\n",
    "\n",
    "    return formatted_contents"
   ]
  },
  {
   "cell_type": "code",
   "execution_count": null,
   "id": "a945868d",
   "metadata": {},
   "outputs": [],
   "source": [
    "query = \"What are some cheap hotels in Tokyo?\"\n",
    "\n",
    "print(hotel_search(query))"
   ]
  },
  {
   "cell_type": "markdown",
   "id": "456d3f02",
   "metadata": {},
   "source": [
    "## Step 3: Define our tools schema"
   ]
  },
  {
   "cell_type": "code",
   "execution_count": null,
   "id": "6b083bf0",
   "metadata": {},
   "outputs": [],
   "source": [
    "flight_tool_schema = function_to_tool(flight_search)\n",
    "hotel_tool_schema = function_to_tool(hotel_search)"
   ]
  },
  {
   "cell_type": "code",
   "execution_count": null,
   "id": "4a0f013b",
   "metadata": {},
   "outputs": [],
   "source": [
    "hotel_tool_schema"
   ]
  },
  {
   "cell_type": "markdown",
   "id": "463f36cc",
   "metadata": {},
   "source": [
    "## Step 4: Define a Prompt Template\n",
    "\n",
    "Prompt templates are discussed in our [Prompt Engineering course](https://github.com/SuperDataScience-Community/prompt-engineering) specifically in the notebook for [multi-shot prompting](https://github.com/SuperDataScience-Community/prompt-engineering/blob/main/prompt-engineering-techniques/multi-shot-prompting.ipynb)"
   ]
  },
  {
   "cell_type": "code",
   "execution_count": null,
   "id": "9a2020c3",
   "metadata": {},
   "outputs": [],
   "source": [
    "# Class to define prompt template\n",
    "class PromptTemplate:\n",
    "    def __init__(self, template: str, input_variables: list[str]):\n",
    "        self.template = template\n",
    "        self.input_variables = input_variables\n",
    "\n",
    "    def generate(self, **kwargs) -> str:\n",
    "        return self.template.format(**{k: kwargs[k] for k in self.input_variables})"
   ]
  },
  {
   "cell_type": "code",
   "execution_count": null,
   "id": "56cdfc38",
   "metadata": {},
   "outputs": [],
   "source": [
    "prompt = PromptTemplate(\n",
    "    template=\"I want to travel to {destination} from {origin} on {departure_date} and return on {return_date}. I prefer {preferences}\",\n",
    "    input_variables=[\"destination\", \"origin\", \"departure_date\", \"return_date\", \"preferences\"]\n",
    ")"
   ]
  },
  {
   "cell_type": "code",
   "execution_count": null,
   "id": "27e67bde",
   "metadata": {},
   "outputs": [],
   "source": [
    "prompt.generate(destination=\"Tokyo\", origin=\"New York\", departure_date=\"2024-10-01\", return_date=\"2024-10-10\", preferences=\"budget airlines\")"
   ]
  },
  {
   "cell_type": "markdown",
   "id": "d68b134f",
   "metadata": {},
   "source": [
    "## Step 5: Call the OpenAI Responses API"
   ]
  },
  {
   "cell_type": "code",
   "execution_count": null,
   "id": "702abd0b",
   "metadata": {},
   "outputs": [],
   "source": [
    "system_message = \"\"\"\n",
    "You are an AI travel planner. The user will provide all their vacation details in a single prompt. Your job is to:\n",
    "\n",
    "1. Use the provided details to search for the best flights and hotels using your tools.\n",
    "2. Summarize the results in a neatly formatted, easy-to-read itinerary.\n",
    "3. Do not ask the user any questions or request clarification—just use the information given.\n",
    "4. Make the itinerary clear, helpful, and a little bit fun!\n",
    "\n",
    "Example flow:\n",
    "- Receive the user's vacation details (destination, dates, preferences, etc.).\n",
    "- Use your flight tool to find the best flight options.\n",
    "- Use your hotel search tools to find the best options.\n",
    "- Present a summary itinerary like:\n",
    "\n",
    "---\n",
    "**Your Adventure Awaits!**\n",
    "- Destination: Tokyo, Japan\n",
    "- Dates: 2024-10-01 to 2024-10-10\n",
    "\n",
    "✈️ **Flight Options:**\n",
    "1. [Flight details here]\n",
    "\n",
    "Day 1:\n",
    "🏨 **Hotel Options:**\n",
    "1. [Hotel details here]\n",
    "2. List of things to do\n",
    "\n",
    "Day 2:\n",
    "🏨 **Hotel Options:**\n",
    "1. [Hotel details here]\n",
    "2. List of things to do\n",
    "\n",
    "Day 3:\n",
    "🏨 **Hotel Options:**\n",
    "1. [Hotel details here]\n",
    "2. List of things to do\n",
    "\n",
    "Have a fantastic trip!\n",
    "---\n",
    "\n",
    "Only return the final itinerary—no follow-up questions or conversation needed.\n",
    "Always call the flight tool first, then the hotel tool. Do not give me a response until you have called both tools.\n",
    "\"\"\""
   ]
  },
  {
   "cell_type": "code",
   "execution_count": null,
   "id": "db0dd7f5",
   "metadata": {},
   "outputs": [],
   "source": [
    "# user prompt\n",
    "\n",
    "user_prompt = prompt.generate(\n",
    "    destination=\"Tokyo\",\n",
    "    origin=\"New York\",\n",
    "    departure_date=\"2024-10-01\",\n",
    "    return_date=\"2024-10-10\",\n",
    "    preferences=\"budget airlines\"\n",
    ")"
   ]
  },
  {
   "cell_type": "code",
   "execution_count": null,
   "id": "2371f99e",
   "metadata": {},
   "outputs": [],
   "source": [
    "# input list\n",
    "input_list = [\n",
    "    {\"role\": \"system\", \"content\": system_message},\n",
    "    {\"role\": \"user\", \"content\": user_prompt}\n",
    "]"
   ]
  },
  {
   "cell_type": "code",
   "execution_count": null,
   "id": "c3484bf0",
   "metadata": {},
   "outputs": [],
   "source": [
    "# response\n",
    "\n",
    "response = openai_client.responses.create(\n",
    "    model=\"gpt-4\",\n",
    "    input=input_list,\n",
    "    tools=[flight_tool_schema, hotel_tool_schema],\n",
    "    tool_choice=\"auto\",\n",
    "    parallel_tool_calls=False\n",
    ")\n",
    "\n",
    "if response.output[0].type == \"message\":\n",
    "    input_list.append({\"role\": \"assistant\", \"content\": response.output_text})\n",
    "if response.output[0].type == \"function_call\":\n",
    "    input_list += response.output\n"
   ]
  },
  {
   "cell_type": "code",
   "execution_count": null,
   "id": "3d228233",
   "metadata": {},
   "outputs": [],
   "source": [
    "# print response\n",
    "input_list"
   ]
  },
  {
   "cell_type": "markdown",
   "id": "50fe86ea",
   "metadata": {},
   "source": [
    "## Step 6: Handle tools calls"
   ]
  },
  {
   "cell_type": "code",
   "execution_count": null,
   "id": "b02e4cc0",
   "metadata": {},
   "outputs": [],
   "source": [
    "def call_function(name, args):\n",
    "    if name == \"flight_search\":\n",
    "        return flight_search(**args)\n",
    "    elif name == \"hotel_search\":\n",
    "        return hotel_search(**args)\n",
    "    else:\n",
    "        raise ValueError(f\"Unknown function: {name}\")"
   ]
  },
  {
   "cell_type": "code",
   "execution_count": null,
   "id": "258f3ee7",
   "metadata": {},
   "outputs": [],
   "source": [
    "name = response.output[0].name\n",
    "args = json.loads(response.output[0].arguments)\n",
    "\n",
    "result = call_function(name, args)\n",
    "\n",
    "input_list.append({\n",
    "    'type': 'function_call_output',\n",
    "    'call_id': response.output[0].call_id,\n",
    "    'output': str(result)\n",
    "})"
   ]
  },
  {
   "cell_type": "code",
   "execution_count": null,
   "id": "bc80fc4b",
   "metadata": {},
   "outputs": [],
   "source": [
    "input_list"
   ]
  },
  {
   "cell_type": "markdown",
   "id": "b3fabc6c",
   "metadata": {},
   "source": [
    "## Step 7: The App Logic"
   ]
  },
  {
   "cell_type": "markdown",
   "id": "137cf049",
   "metadata": {},
   "source": [
    "<div style=\"border-radius:16px;background:#2e3440;margin:1em 0;padding:1em;color:#eceff4;position:relative;box-shadow:0 6px 16px rgba(0,0,0,.4);overflow-wrap:break-word;word-break:break-word;\">\n",
    "  <b style=\"color:#88c0d0;font-size:1.25em\">Info:</b>\n",
    "  <span style=\"display:block;margin-top:.6em;padding-left:1.2em;line-height:1.6\">\n",
    "    In the video lectures, we saw that our Agent, Atlas was not following the example itinerary properly. This is probably due to the smaller sized model we are using. Try replacing that model with <code>gpt-4o</code>, <code>gpt-5</code> or if you want to continue with cheaper models, <code>gpt-4o-mini</code> all of which are great at tool use (with gpt-5 obviously outperforming all models in agentic use cases).\n",
    "  </span>\n",
    "  <div style=\"position:absolute;top:-.8em;left:-.8em;width:2.4em;height:2.4em;border-radius:50%;background:#88c0d0;color:#2e3440;display:flex;align-items:center;justify-content:center;font-weight:700;font-size:1.2em\">💡</div>\n",
    "</div>"
   ]
  },
  {
   "cell_type": "code",
   "execution_count": null,
   "id": "253a008a",
   "metadata": {},
   "outputs": [],
   "source": [
    "def get_response(input_list):\n",
    "    response = openai_client.responses.create(\n",
    "        model=\"gpt-4.1-nano\",\n",
    "        input=input_list,\n",
    "        tools=[flight_tool_schema, hotel_tool_schema],\n",
    "        tool_choice=\"auto\",\n",
    "        parallel_tool_calls=False\n",
    "    )\n",
    "    return response"
   ]
  },
  {
   "cell_type": "code",
   "execution_count": null,
   "id": "aea57614",
   "metadata": {},
   "outputs": [],
   "source": [
    "def trip_planner(destination, origin, departure_date, return_date, preferences):\n",
    "\n",
    "    user_prompt = prompt.generate(\n",
    "    destination=destination,\n",
    "    origin=origin,\n",
    "    departure_date=departure_date,\n",
    "    return_date=return_date,\n",
    "    preferences=preferences\n",
    "    )\n",
    "\n",
    "    input_list = [\n",
    "        {\"role\": \"system\", \"content\": system_message},\n",
    "        {\"role\": \"user\", \"content\": user_prompt}\n",
    "    ]\n",
    "\n",
    "    response = get_response(input_list)\n",
    "\n",
    "    if response.output[0].type == \"function_call\":\n",
    "        while response.output[0].type == \"function_call\":\n",
    "            input_list += response.output\n",
    "            \n",
    "            name = response.output[0].name\n",
    "            args = json.loads(response.output[0].arguments)\n",
    "\n",
    "            result = call_function(name, args)\n",
    "\n",
    "            input_list.append({\n",
    "                'type': 'function_call_output',\n",
    "                'call_id': response.output[0].call_id,\n",
    "                'output': str(result)\n",
    "            })\n",
    "\n",
    "            response = get_response(input_list)\n",
    "\n",
    "    return response.output_text\n"
   ]
  },
  {
   "cell_type": "code",
   "execution_count": null,
   "id": "44a9aa58",
   "metadata": {},
   "outputs": [],
   "source": [
    "display(Markdown(trip_planner(\"Tokyo\", \"New York\", \"2024-10-01\", \"2024-10-10\", \"budget airlines\")))"
   ]
  },
  {
   "cell_type": "markdown",
   "id": "25ca8ee2",
   "metadata": {},
   "source": [
    "## Step 8: Gradio UI"
   ]
  },
  {
   "cell_type": "code",
   "execution_count": null,
   "id": "be775fa1",
   "metadata": {},
   "outputs": [],
   "source": [
    "with gr.Blocks() as demo:\n",
    "    gr.Markdown(\"# Atlas: Your Personal Travel Itinerary Planner\")\n",
    "    gr.Markdown(\"Plan your perfect trip with ease! Enter your travel details below, and let our AI-powered planner find the best flights and hotels for you.\")\n",
    "    \n",
    "    with gr.Row():\n",
    "        destination = gr.Textbox(label=\"Destination\", placeholder=\"Enter your travel destination (e.g., Tokyo)\")\n",
    "        origin = gr.Textbox(label=\"Origin\", placeholder=\"Enter your departure city (e.g., New York)\")\n",
    "\n",
    "    with gr.Row():\n",
    "        departure_date = gr.Textbox(label=\"Departure Date\", placeholder=\"Enter your departure date (e.g., 2024-10-01)\")\n",
    "        return_date = gr.Textbox(label=\"Return Date\", placeholder=\"Enter your return date (e.g., 2024-10-10)\")\n",
    "\n",
    "    preferences = gr.Textbox(label=\"Preferences\", placeholder=\"Enter any preferences (e.g., budget airlines, 4-star hotels)\")\n",
    "    submit_btn = gr.Button(\"Plan My Trip!\")\n",
    "    output = gr.Markdown(label=\"Your Itinerary\")\n",
    "\n",
    "    def on_submit(destination, origin, departure_date, return_date, preferences):\n",
    "        return trip_planner(destination, origin, departure_date, return_date, preferences)\n",
    "    \n",
    "    submit_btn.click(on_submit, inputs=[destination, origin, departure_date, return_date, preferences], outputs=output)\n",
    "\n",
    "demo.launch()"
   ]
  },
  {
   "cell_type": "markdown",
   "id": "07914c24",
   "metadata": {},
   "source": [
    "## Step 9: Deployment\n",
    "\n",
    "You should first get setup on huggingface by making an account:\n",
    "\n",
    "1. Visit the [huggingface](https://huggingface.co/) website and create an account.\n",
    "2. Create an [API Key](https://huggingface.co/settings/tokens)\n",
    "3. Copy the app logic into a `app.py` file and include a `requirements.txt` file inside of `community-contributions/your-name`\n",
    "4. Open a new terminal\n",
    "5. Activate our virtual environment\n",
    "    - Windows command: `.venv\\Scripts\\activate`\n",
    "    - Mac/Linux command: `source .venv/bin/activate`\n",
    "6. cd into part1-fundementals using the command `cd part1-fundementals`\n",
    "7. Run the command `gradio deploy`\n",
    "8. Open the link to your deployed app"
   ]
  },
  {
   "cell_type": "markdown",
   "id": "eea1334e",
   "metadata": {},
   "source": [
    "<div style=\"border-radius:16px;background:#3b1c1c;margin:1em 0;padding:1em;color:#eceff4;position:relative;box-shadow:0 6px 16px rgba(0,0,0,.4);overflow-wrap:break-word;word-break:break-word;\">\n",
    "  <b style=\"color:#bf616a;font-size:1.25em\">Warning:</b>\n",
    "  <span style=\"display:block;margin-top:.6em;padding-left:1.2em;line-height:1.6\">\n",
    "    You must add your <code>app.py</code>, <code>requirements.txt</code>, and a copy of <code>utils.py</code> inside the <code>community-contributions/your-name</code> folder.<br>\n",
    "    For example: <code>community-contributions/your-name/app.py</code><br>\n",
    "    Replace <code>your-name</code> with your actual name.\n",
    "  </span>\n",
    "  <div style=\"position:absolute;top:-.8em;left:-.8em;width:2.4em;height:2.4em;border-radius:50%;background:#bf616a;color:#2e3440;display:flex;align-items:center;justify-content:center;font-weight:700;font-size:1.2em\">⚠️</div>\n",
    "</div>"
   ]
  }
 ],
 "metadata": {
  "kernelspec": {
   "display_name": "agentic-ai",
   "language": "python",
   "name": "python3"
  },
  "language_info": {
   "codemirror_mode": {
    "name": "ipython",
    "version": 3
   },
   "file_extension": ".py",
   "mimetype": "text/x-python",
   "name": "python",
   "nbconvert_exporter": "python",
   "pygments_lexer": "ipython3",
   "version": "3.13.5"
  }
 },
 "nbformat": 4,
 "nbformat_minor": 5
}
